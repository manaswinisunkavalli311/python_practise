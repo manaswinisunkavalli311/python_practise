{
 "cells": [
  {
   "cell_type": "code",
   "execution_count": 3,
   "id": "ebe68138",
   "metadata": {},
   "outputs": [
    {
     "name": "stdout",
     "output_type": "stream",
     "text": [
      "    cars  passings\n",
      "0    BMW         3\n",
      "1  Volvo         7\n",
      "2   Ford         2\n"
     ]
    }
   ],
   "source": [
    "import pandas\n",
    "\n",
    "mydataset = {\n",
    "  'cars': [\"BMW\", \"Volvo\", \"Ford\"],\n",
    "  'passings': [3, 7, 2]\n",
    "}\n",
    "\n",
    "myvar = pandas.DataFrame(mydataset)\n",
    "\n",
    "print(myvar)"
   ]
  },
  {
   "cell_type": "raw",
   "id": "48faf790",
   "metadata": {},
   "source": [
    "import pandas as pd\n",
    "\n",
    "mydataset = {\n",
    "  'cars': [\"BMW\", \"Volvo\", \"Ford\"],\n",
    "  'passings': [3, 7, 2]\n",
    "}\n",
    "\n",
    "myvar = pandas.DataFrame(mydataset)\n",
    "\n",
    "print(myvar)"
   ]
  },
  {
   "cell_type": "code",
   "execution_count": 8,
   "id": "7e3038f0",
   "metadata": {},
   "outputs": [
    {
     "name": "stdout",
     "output_type": "stream",
     "text": [
      "           veg cost\n",
      "0      panneer  150\n",
      "1          dal   50\n",
      "2  cauliflower   78\n",
      "3       carrot   90\n",
      "   non-veg cost\n",
      "0  chicken  300\n",
      "1    crabs  550\n",
      "2   prawns  870\n",
      "3      egg  170\n"
     ]
    }
   ],
   "source": [
    "import pandas\n",
    "veg_menu={\n",
    "    'veg':['panneer','dal','cauliflower','carrot'],\n",
    "    'cost':['150','50','78','90']\n",
    "}\n",
    "nonveg_menu={\n",
    "    'non-veg':['chicken','crabs','prawns','egg'],\n",
    "    'cost':['300','550','870','170']\n",
    "}\n",
    "print(pandas.DataFrame(veg_menu))\n",
    "print(pandas.DataFrame(nonveg_menu))"
   ]
  },
  {
   "cell_type": "code",
   "execution_count": 22,
   "id": "69d9c9dc",
   "metadata": {},
   "outputs": [
    {
     "name": "stdout",
     "output_type": "stream",
     "text": [
      "         order  cost\n",
      "0      panneer   600\n",
      "1          dal   200\n",
      "2  cauliflower   399\n",
      "3       carrot   400\n",
      "4      chicken   800\n",
      "5        crabs   800\n",
      "6       prawns   670\n"
     ]
    }
   ],
   "source": [
    "import pandas\n",
    "order=pandas.read_csv('E:\\\\menu1.csv')\n",
    "print(order.to_string())"
   ]
  },
  {
   "cell_type": "code",
   "execution_count": 6,
   "id": "e68d7b75",
   "metadata": {},
   "outputs": [
    {
     "name": "stdout",
     "output_type": "stream",
     "text": [
      "        name age  gender\n",
      "0  manaswini  18  female\n",
      "1        sai  45    male\n",
      "2      ratna  37  female\n"
     ]
    }
   ],
   "source": [
    "import pandas\n",
    "details={\n",
    "    'name':['manaswini','sai','ratna'],\n",
    "    'age':['18','45','37'],\n",
    "    'gender':['female','male','female']\n",
    "}\n",
    "mydataset=pandas.DataFrame(details)\n",
    "print(mydataset)"
   ]
  },
  {
   "cell_type": "code",
   "execution_count": null,
   "id": "32a3d039",
   "metadata": {},
   "outputs": [],
   "source": []
  }
 ],
 "metadata": {
  "kernelspec": {
   "display_name": "Python 3 (ipykernel)",
   "language": "python",
   "name": "python3"
  },
  "language_info": {
   "codemirror_mode": {
    "name": "ipython",
    "version": 3
   },
   "file_extension": ".py",
   "mimetype": "text/x-python",
   "name": "python",
   "nbconvert_exporter": "python",
   "pygments_lexer": "ipython3",
   "version": "3.9.7"
  }
 },
 "nbformat": 4,
 "nbformat_minor": 5
}
