{
  "nbformat": 4,
  "nbformat_minor": 0,
  "metadata": {
    "colab": {
      "name": "dictionaries.ipynb",
      "provenance": [],
      "collapsed_sections": [],
      "authorship_tag": "ABX9TyMUaCXImJZAtQsf+5JLq83+",
      "include_colab_link": true
    },
    "kernelspec": {
      "name": "python3",
      "display_name": "Python 3"
    },
    "language_info": {
      "name": "python"
    }
  },
  "cells": [
    {
      "cell_type": "markdown",
      "metadata": {
        "id": "view-in-github",
        "colab_type": "text"
      },
      "source": [
        "<a href=\"https://colab.research.google.com/github/manaswinisunkavalli311/python_practise/blob/main/dictionaries.ipynb\" target=\"_parent\"><img src=\"https://colab.research.google.com/assets/colab-badge.svg\" alt=\"Open In Colab\"/></a>"
      ]
    },
    {
      "cell_type": "markdown",
      "source": [
        "printing dictionary"
      ],
      "metadata": {
        "id": "g7vW65N4YTT5"
      }
    },
    {
      "cell_type": "code",
      "execution_count": 1,
      "metadata": {
        "colab": {
          "base_uri": "https://localhost:8080/"
        },
        "id": "WnsazxDhYIcc",
        "outputId": "4c9a04c7-6cc5-41d3-eee3-0960c554433e"
      },
      "outputs": [
        {
          "output_type": "stream",
          "name": "stdout",
          "text": [
            "{'brand': 'Ford', 'model': 'Mustang', 'year': 1964}\n"
          ]
        }
      ],
      "source": [
        "dict = {\n",
        "  \"brand\": \"Ford\",\n",
        "  \"model\": \"Mustang\",\n",
        "  \"year\": 1964\n",
        "}\n",
        "print(dict)\n"
      ]
    },
    {
      "cell_type": "markdown",
      "source": [
        "value of key\n"
      ],
      "metadata": {
        "id": "GPM0T7BTYSwg"
      }
    },
    {
      "cell_type": "code",
      "source": [
        "dict = {\n",
        "  \"brand\": \"Ford\",\n",
        "  \"model\": \"Mustang\",\n",
        "  \"year\": 1964\n",
        "}\n",
        "print(dict[\"brand\"])\n"
      ],
      "metadata": {
        "colab": {
          "base_uri": "https://localhost:8080/"
        },
        "id": "kMrUoWUzYN0p",
        "outputId": "d9cf76fd-7243-4668-f12f-a4469ffc7634"
      },
      "execution_count": 2,
      "outputs": [
        {
          "output_type": "stream",
          "name": "stdout",
          "text": [
            "Ford\n"
          ]
        }
      ]
    },
    {
      "cell_type": "code",
      "source": [
        "dict = {\n",
        "  \"brand\": \"Ford\",\n",
        "  \"model\": \"Mustang\",\n",
        "  \"year\": 1964,\n",
        "  \"year\": 2020\n",
        "}\n",
        "print(dict)\n"
      ],
      "metadata": {
        "colab": {
          "base_uri": "https://localhost:8080/"
        },
        "id": "sRVMo1s6YN4P",
        "outputId": "0f6cd588-7f99-4355-c157-9868243a461e"
      },
      "execution_count": 3,
      "outputs": [
        {
          "output_type": "stream",
          "name": "stdout",
          "text": [
            "{'brand': 'Ford', 'model': 'Mustang', 'year': 2020}\n"
          ]
        }
      ]
    },
    {
      "cell_type": "code",
      "source": [
        "dict = {\n",
        "  \"brand\": \"Ford\",\n",
        "  \"model\": \"Mustang\",\n",
        "  \"year\": 1964,\n",
        "  \"year\": 2020\n",
        "}\n",
        "print(len(dict))\n"
      ],
      "metadata": {
        "colab": {
          "base_uri": "https://localhost:8080/"
        },
        "id": "qZPLglbbYq3h",
        "outputId": "2a02d356-0a7a-40db-bf7b-359a2586901e"
      },
      "execution_count": 4,
      "outputs": [
        {
          "output_type": "stream",
          "name": "stdout",
          "text": [
            "3\n"
          ]
        }
      ]
    },
    {
      "cell_type": "markdown",
      "source": [
        "datatype dictionary"
      ],
      "metadata": {
        "id": "JXoEa17zY2Tf"
      }
    },
    {
      "cell_type": "code",
      "source": [
        "dict = {\n",
        "  \"brand\": \"Ford\",\n",
        "  \"electric\": False,\n",
        "  \"year\": 1964,\n",
        "  \"colors\": [\"red\", \"white\", \"blue\"]\n",
        "}\n",
        "\n",
        "print(dict)\n"
      ],
      "metadata": {
        "colab": {
          "base_uri": "https://localhost:8080/"
        },
        "id": "VYxJNSfbYN7x",
        "outputId": "d8eea5ee-9734-4781-d9e2-bf16ca370027"
      },
      "execution_count": 5,
      "outputs": [
        {
          "output_type": "stream",
          "name": "stdout",
          "text": [
            "{'brand': 'Ford', 'electric': False, 'year': 1964, 'colors': ['red', 'white', 'blue']}\n"
          ]
        }
      ]
    },
    {
      "cell_type": "code",
      "source": [
        "dict = {\n",
        "  \"brand\": \"Ford\",\n",
        "  \"model\": \"Mustang\",\n",
        "  \"year\": 1964\n",
        "}\n",
        "print(type(dict))"
      ],
      "metadata": {
        "colab": {
          "base_uri": "https://localhost:8080/"
        },
        "id": "y_ZphOSqYN_K",
        "outputId": "913d43b0-216b-427b-cbca-eb0308c1042d"
      },
      "execution_count": 6,
      "outputs": [
        {
          "output_type": "stream",
          "name": "stdout",
          "text": [
            "<class 'dict'>\n"
          ]
        }
      ]
    },
    {
      "cell_type": "markdown",
      "source": [
        "access items"
      ],
      "metadata": {
        "id": "BDLJQEzEZd3I"
      }
    },
    {
      "cell_type": "code",
      "source": [
        "dict = {\n",
        "  \"brand\": \"Ford\",\n",
        "  \"model\": \"Mustang\",\n",
        "  \"year\": 1964\n",
        "}\n",
        "x = dict[\"model\"]\n"
      ],
      "metadata": {
        "id": "T55pZpk9Y70Y"
      },
      "execution_count": 7,
      "outputs": []
    },
    {
      "cell_type": "code",
      "source": [
        "dict =\t{\n",
        "  \"brand\": \"Ford\",\n",
        "  \"model\": \"Mustang\",\n",
        "  \"year\": 1964\n",
        "}\n",
        "x = dict.get(\"model\")\n",
        "print(x)\n"
      ],
      "metadata": {
        "colab": {
          "base_uri": "https://localhost:8080/"
        },
        "id": "8D3YECCRZJRJ",
        "outputId": "c1f1affe-9f28-4bf6-8d55-783b566a9182"
      },
      "execution_count": 8,
      "outputs": [
        {
          "output_type": "stream",
          "name": "stdout",
          "text": [
            "Mustang\n"
          ]
        }
      ]
    },
    {
      "cell_type": "markdown",
      "source": [
        "keys"
      ],
      "metadata": {
        "id": "axp7aUzGZWV_"
      }
    },
    {
      "cell_type": "code",
      "source": [
        "thisdict = {\n",
        "  \"brand\": \"Ford\",\n",
        "  \"model\": \"Mustang\",\n",
        "  \"year\": 1964\n",
        "}\n",
        "\n",
        "x = thisdict.keys()\n",
        "\n",
        "print(x)\n"
      ],
      "metadata": {
        "id": "sstBS34sZJUf"
      },
      "execution_count": null,
      "outputs": []
    },
    {
      "cell_type": "code",
      "source": [
        "#Add a new item to the original dictionary, and see that the keys list gets updated \n",
        "\n",
        "car = {\n",
        "\"brand\": \"Ford\",\n",
        "\"model\": \"Mustang\",\n",
        "\"year\": 1964\n",
        "}\n",
        "\n",
        "x = car.keys()\n",
        "\n",
        "print(x) #before the change\n",
        "\n",
        "car[\"color\"] = \"white\"\n",
        "\n",
        "print(x) #after the change\n"
      ],
      "metadata": {
        "colab": {
          "base_uri": "https://localhost:8080/"
        },
        "id": "tRElaFfeZJXZ",
        "outputId": "db45f927-21b0-4fa5-f552-4fd90f2ab395"
      },
      "execution_count": 9,
      "outputs": [
        {
          "output_type": "stream",
          "name": "stdout",
          "text": [
            "dict_keys(['brand', 'model', 'year'])\n",
            "dict_keys(['brand', 'model', 'year', 'color'])\n"
          ]
        }
      ]
    },
    {
      "cell_type": "markdown",
      "source": [
        "values"
      ],
      "metadata": {
        "id": "7KitXmrPZupP"
      }
    },
    {
      "cell_type": "code",
      "source": [
        "thisdict = {\n",
        "  \"brand\": \"Ford\",\n",
        "  \"model\": \"Mustang\",\n",
        "  \"year\": 1964\n",
        "}\n",
        "\n",
        "x = thisdict.values()\n",
        "\n",
        "print(x)\n"
      ],
      "metadata": {
        "colab": {
          "base_uri": "https://localhost:8080/"
        },
        "id": "CJS3KLs7Y74a",
        "outputId": "677083f8-b794-40b3-b100-9829352301f3"
      },
      "execution_count": 10,
      "outputs": [
        {
          "output_type": "stream",
          "name": "stdout",
          "text": [
            "dict_values(['Ford', 'Mustang', 1964])\n"
          ]
        }
      ]
    },
    {
      "cell_type": "code",
      "source": [
        "#Make a change in the original dictionary, and see that the values list gets updated \n",
        "\n",
        "car = {\n",
        "\"brand\": \"Ford\",\n",
        "\"model\": \"Mustang\",\n",
        "\"year\": 1964\n",
        "}\n",
        "\n",
        "x = car.values()\n",
        "\n",
        "print(x) #before the change\n",
        "\n",
        "car[\"year\"] = 2020\n",
        "\n",
        "print(x) #after the change\n"
      ],
      "metadata": {
        "colab": {
          "base_uri": "https://localhost:8080/"
        },
        "id": "xrS3gmD7Zqkq",
        "outputId": "8d961bdf-1043-4db0-aecd-02942f6f77c3"
      },
      "execution_count": 11,
      "outputs": [
        {
          "output_type": "stream",
          "name": "stdout",
          "text": [
            "dict_values(['Ford', 'Mustang', 1964])\n",
            "dict_values(['Ford', 'Mustang', 2020])\n"
          ]
        }
      ]
    },
    {
      "cell_type": "code",
      "source": [
        "# if key is present or not\n",
        "dict = {\n",
        "  \"brand\": \"Ford\",\n",
        "  \"model\": \"Mustang\",\n",
        "  \"year\": 1964\n",
        "}\n",
        "if \"model\" in dict:\n",
        "  print(\"Yes, 'model' is one of the keys in the dict dictionary\")\n"
      ],
      "metadata": {
        "colab": {
          "base_uri": "https://localhost:8080/"
        },
        "id": "TJbsWrQSZ66p",
        "outputId": "daf74842-5df1-42cd-ba5e-ca0ba159c417"
      },
      "execution_count": 12,
      "outputs": [
        {
          "output_type": "stream",
          "name": "stdout",
          "text": [
            "Yes, 'model' is one of the keys in the dict dictionary\n"
          ]
        }
      ]
    },
    {
      "cell_type": "code",
      "source": [
        "#Make a change in the original dictionary, and see that the items list gets updated\n",
        "car = {\n",
        "\"brand\": \"Ford\",\n",
        "\"model\": \"Mustang\",\n",
        "\"year\": 1964\n",
        "}\n",
        "\n",
        "x = car.items()\n",
        "\n",
        "print(x) #before the change\n",
        "\n",
        "car[\"year\"] = 2020\n",
        "\n",
        "print(x) #after the change\n"
      ],
      "metadata": {
        "colab": {
          "base_uri": "https://localhost:8080/"
        },
        "id": "EHKr6_a8Z69q",
        "outputId": "0bac5050-e942-4ac5-b386-dd459071c37b"
      },
      "execution_count": 13,
      "outputs": [
        {
          "output_type": "stream",
          "name": "stdout",
          "text": [
            "dict_items([('brand', 'Ford'), ('model', 'Mustang'), ('year', 1964)])\n",
            "dict_items([('brand', 'Ford'), ('model', 'Mustang'), ('year', 2020)])\n"
          ]
        }
      ]
    },
    {
      "cell_type": "code",
      "source": [
        "#Add a new item to the original dictionary, and see that the items list gets updated \n",
        "car = {\n",
        "\"brand\": \"Ford\",\n",
        "\"model\": \"Mustang\",\n",
        "\"year\": 1964\n",
        "}\n",
        "\n",
        "x = car.items()\n",
        "\n",
        "print(x) #before the change\n",
        "\n",
        "car[\"color\"] = \"red\"\n",
        "\n",
        "print(x) #after the change"
      ],
      "metadata": {
        "colab": {
          "base_uri": "https://localhost:8080/"
        },
        "id": "V0U7SUYmZ7CE",
        "outputId": "23bdb1ef-ac4a-4882-a2af-c2d14c81459d"
      },
      "execution_count": 14,
      "outputs": [
        {
          "output_type": "stream",
          "name": "stdout",
          "text": [
            "dict_items([('brand', 'Ford'), ('model', 'Mustang'), ('year', 1964)])\n",
            "dict_items([('brand', 'Ford'), ('model', 'Mustang'), ('year', 1964), ('color', 'red')])\n"
          ]
        }
      ]
    },
    {
      "cell_type": "markdown",
      "source": [
        "updating"
      ],
      "metadata": {
        "id": "UCCzKTCvauMY"
      }
    },
    {
      "cell_type": "code",
      "source": [
        "dict = {\n",
        "  \"brand\": input(\"enter\"),\n",
        "  \"model\": input(\"enter\"),\n",
        "  \"year\": input(\"enter\")\n",
        "}\n",
        "dict.update({\"year\": 2020})\n",
        "print(dict)\n"
      ],
      "metadata": {
        "colab": {
          "base_uri": "https://localhost:8080/"
        },
        "id": "CmJ0ty8LZqoY",
        "outputId": "a3ae8d9d-c195-4dad-f502-638390d653ab"
      },
      "execution_count": 41,
      "outputs": [
        {
          "output_type": "stream",
          "name": "stdout",
          "text": [
            "enterkia\n",
            "enterxuv\n",
            "enter2019\n",
            "{'brand': 'kia', 'model': 'xuv', 'year': 2020}\n"
          ]
        }
      ]
    },
    {
      "cell_type": "code",
      "source": [
        "dict = {\n",
        "  \"brand\": \"Ford\",\n",
        "  \"model\": \"Mustang\",\n",
        "  \"year\": 1964\n",
        "}\n",
        "dict[\"year\"] = 2018\n",
        "print(dict)\n"
      ],
      "metadata": {
        "colab": {
          "base_uri": "https://localhost:8080/"
        },
        "id": "DP1EQHjJawZK",
        "outputId": "a6be1925-4682-4be2-dcd5-3687c9c47ab3"
      },
      "execution_count": 18,
      "outputs": [
        {
          "output_type": "stream",
          "name": "stdout",
          "text": [
            "{'brand': 'Ford', 'model': 'Mustang', 'year': 2018}\n"
          ]
        }
      ]
    },
    {
      "cell_type": "code",
      "source": [
        "#aDD\n",
        "dict = {\n",
        "  \"brand\": \"Ford\",\n",
        "  \"model\": \"Mustang\",\n",
        "  \"year\": 1964\n",
        "}\n",
        "dict[\"color\"] = \"red\"\n",
        "print(dict)\n"
      ],
      "metadata": {
        "colab": {
          "base_uri": "https://localhost:8080/"
        },
        "id": "RGJZG6NUawcS",
        "outputId": "ade9bbec-5c37-4c31-e62b-a02047bfbf82"
      },
      "execution_count": 19,
      "outputs": [
        {
          "output_type": "stream",
          "name": "stdout",
          "text": [
            "{'brand': 'Ford', 'model': 'Mustang', 'year': 1964, 'color': 'red'}\n"
          ]
        }
      ]
    },
    {
      "cell_type": "code",
      "source": [
        "#UPDATE\n",
        "dict = {\n",
        "  \"brand\": \"Ford\",\n",
        "  \"model\": \"Mustang\",\n",
        "  \"year\": 1964\n",
        "}\n",
        "dict.update({\"color\": \"red\"})\n",
        "print(dict)"
      ],
      "metadata": {
        "colab": {
          "base_uri": "https://localhost:8080/"
        },
        "id": "icuMUaNEawfq",
        "outputId": "2351efe3-a8b4-46ea-b0ea-f30cf5dd7202"
      },
      "execution_count": 21,
      "outputs": [
        {
          "output_type": "stream",
          "name": "stdout",
          "text": [
            "{'brand': 'Ford', 'model': 'Mustang', 'year': 1964, 'color': 'red'}\n"
          ]
        }
      ]
    },
    {
      "cell_type": "code",
      "source": [
        "#clear\n",
        "dict = {\n",
        "  \"brand\": \"Ford\",\n",
        "  \"model\": \"Mustang\",\n",
        "  \"year\": 1964\n",
        "}\n",
        "dict.clear()\n",
        "print(thisdict)"
      ],
      "metadata": {
        "colab": {
          "base_uri": "https://localhost:8080/"
        },
        "id": "GoTtJycdbTq6",
        "outputId": "1e059aa8-76a9-4718-cca9-36682b16d665"
      },
      "execution_count": 22,
      "outputs": [
        {
          "output_type": "stream",
          "name": "stdout",
          "text": [
            "{'brand': 'Ford', 'model': 'Mustang', 'year': 1964}\n"
          ]
        }
      ]
    },
    {
      "cell_type": "code",
      "source": [
        "#delete\n",
        "dict = {\n",
        "  \"brand\": \"Ford\",\n",
        "  \"model\": \"Mustang\",\n",
        "  \"year\": 1964\n",
        "}\n",
        "del dict[\"model\"]\n",
        "print(thisdict)\n"
      ],
      "metadata": {
        "colab": {
          "base_uri": "https://localhost:8080/"
        },
        "id": "zs8s9TQMbTvc",
        "outputId": "dabc7539-ab81-4b7c-90d6-f62deadefd60"
      },
      "execution_count": 23,
      "outputs": [
        {
          "output_type": "stream",
          "name": "stdout",
          "text": [
            "{'brand': 'Ford', 'model': 'Mustang', 'year': 1964}\n"
          ]
        }
      ]
    },
    {
      "cell_type": "code",
      "source": [
        "#pop\n",
        "dict = {\n",
        "  \"brand\": \"Ford\",\n",
        "  \"model\": \"Mustang\",\n",
        "  \"year\": 1964\n",
        "}\n",
        "dict.popitem()\n",
        "print(dict)"
      ],
      "metadata": {
        "colab": {
          "base_uri": "https://localhost:8080/"
        },
        "id": "1X4ul6wbbq15",
        "outputId": "53f5818b-43e0-4597-9d0f-0fd854d28d20"
      },
      "execution_count": 24,
      "outputs": [
        {
          "output_type": "stream",
          "name": "stdout",
          "text": [
            "{'brand': 'Ford', 'model': 'Mustang'}\n"
          ]
        }
      ]
    },
    {
      "cell_type": "code",
      "source": [
        "#pop key\n",
        "dict = {\n",
        "  \"brand\": \"Ford\",\n",
        "  \"model\": \"Mustang\",\n",
        "  \"year\": 1964\n",
        "}\n",
        "dict.pop(\"model\")\n",
        "print(dict)"
      ],
      "metadata": {
        "colab": {
          "base_uri": "https://localhost:8080/"
        },
        "id": "2vmSZhAebq5n",
        "outputId": "1543a8fb-002f-47e1-f747-3ab9432af43f"
      },
      "execution_count": 25,
      "outputs": [
        {
          "output_type": "stream",
          "name": "stdout",
          "text": [
            "{'brand': 'Ford', 'year': 1964}\n"
          ]
        }
      ]
    },
    {
      "cell_type": "code",
      "source": [
        "dict =\t{\n",
        "  \"brand\": \"Ford\",\n",
        "  \"model\": \"Mustang\",\n",
        "  \"year\": 1964\n",
        "}\n",
        "for x in dict:\n",
        "  print(x)\n",
        "  for x in dict:\n",
        "          print(dict[x])\n",
        "          for x in dict.values():\n",
        "            print(x)\n",
        "            for x in dict.keys():\n",
        "                   print(x)\n",
        "\n",
        "\n"
      ],
      "metadata": {
        "colab": {
          "base_uri": "https://localhost:8080/"
        },
        "id": "lTw_o8GpbT3j",
        "outputId": "997beca2-236d-43e6-b23e-3c1d43bbb821"
      },
      "execution_count": 28,
      "outputs": [
        {
          "output_type": "stream",
          "name": "stdout",
          "text": [
            "brand\n",
            "Ford\n",
            "Ford\n",
            "brand\n",
            "model\n",
            "year\n",
            "Mustang\n",
            "brand\n",
            "model\n",
            "year\n",
            "1964\n",
            "brand\n",
            "model\n",
            "year\n",
            "Mustang\n",
            "Ford\n",
            "brand\n",
            "model\n",
            "year\n",
            "Mustang\n",
            "brand\n",
            "model\n",
            "year\n",
            "1964\n",
            "brand\n",
            "model\n",
            "year\n",
            "1964\n",
            "Ford\n",
            "brand\n",
            "model\n",
            "year\n",
            "Mustang\n",
            "brand\n",
            "model\n",
            "year\n",
            "1964\n",
            "brand\n",
            "model\n",
            "year\n",
            "model\n",
            "Ford\n",
            "Ford\n",
            "brand\n",
            "model\n",
            "year\n",
            "Mustang\n",
            "brand\n",
            "model\n",
            "year\n",
            "1964\n",
            "brand\n",
            "model\n",
            "year\n",
            "Mustang\n",
            "Ford\n",
            "brand\n",
            "model\n",
            "year\n",
            "Mustang\n",
            "brand\n",
            "model\n",
            "year\n",
            "1964\n",
            "brand\n",
            "model\n",
            "year\n",
            "1964\n",
            "Ford\n",
            "brand\n",
            "model\n",
            "year\n",
            "Mustang\n",
            "brand\n",
            "model\n",
            "year\n",
            "1964\n",
            "brand\n",
            "model\n",
            "year\n",
            "year\n",
            "Ford\n",
            "Ford\n",
            "brand\n",
            "model\n",
            "year\n",
            "Mustang\n",
            "brand\n",
            "model\n",
            "year\n",
            "1964\n",
            "brand\n",
            "model\n",
            "year\n",
            "Mustang\n",
            "Ford\n",
            "brand\n",
            "model\n",
            "year\n",
            "Mustang\n",
            "brand\n",
            "model\n",
            "year\n",
            "1964\n",
            "brand\n",
            "model\n",
            "year\n",
            "1964\n",
            "Ford\n",
            "brand\n",
            "model\n",
            "year\n",
            "Mustang\n",
            "brand\n",
            "model\n",
            "year\n",
            "1964\n",
            "brand\n",
            "model\n",
            "year\n"
          ]
        }
      ]
    },
    {
      "cell_type": "code",
      "source": [
        "#items\n",
        "dict =\t{\n",
        "  \"brand\": \"Ford\",\n",
        "  \"model\": \"Mustang\",\n",
        "  \"year\": 1964\n",
        "}\n",
        "for x, y in dict.items():\n",
        "  print(x, y)\n",
        "\n",
        "\n"
      ],
      "metadata": {
        "colab": {
          "base_uri": "https://localhost:8080/"
        },
        "id": "-TKASvInb_2B",
        "outputId": "27006891-e9b8-40b3-bfc7-1b5ec1221b26"
      },
      "execution_count": 29,
      "outputs": [
        {
          "output_type": "stream",
          "name": "stdout",
          "text": [
            "brand Ford\n",
            "model Mustang\n",
            "year 1964\n"
          ]
        }
      ]
    },
    {
      "cell_type": "code",
      "source": [
        "#keys\n",
        "dict =\t{\n",
        "  \"brand\": \"Ford\",\n",
        "  \"model\": \"Mustang\",\n",
        "  \"year\": 1964\n",
        "}\n",
        "for x in dict.keys():\n",
        "  print(x)\n"
      ],
      "metadata": {
        "colab": {
          "base_uri": "https://localhost:8080/"
        },
        "id": "xDP-bSMIb_5o",
        "outputId": "9333dfec-9529-44d6-c29e-9bfc1c118a8c"
      },
      "execution_count": 30,
      "outputs": [
        {
          "output_type": "stream",
          "name": "stdout",
          "text": [
            "brand\n",
            "model\n",
            "year\n"
          ]
        }
      ]
    },
    {
      "cell_type": "code",
      "source": [
        "#values'\n",
        "dict =\t{\n",
        "  \"brand\": \"Ford\",\n",
        "  \"model\": \"Mustang\",\n",
        "  \"year\": 1964\n",
        "}\n",
        "for x in dict.values():\n",
        "  print(x)\n"
      ],
      "metadata": {
        "id": "f6dKBeXldQs7"
      },
      "execution_count": null,
      "outputs": []
    },
    {
      "cell_type": "markdown",
      "source": [
        "copy"
      ],
      "metadata": {
        "id": "4kq92efNdgUH"
      }
    },
    {
      "cell_type": "code",
      "source": [
        "# copy() method:\n",
        "\n",
        "dict = {\n",
        "  \"brand\": \"Ford\",\n",
        "  \"model\": \"Mustang\",\n",
        "  \"year\": 1964\n",
        "}\n",
        "mydict = dict.copy()\n",
        "print(mydict)"
      ],
      "metadata": {
        "colab": {
          "base_uri": "https://localhost:8080/"
        },
        "id": "Diku_FtXdQ1S",
        "outputId": "19a61ef5-972e-4df6-ac3f-763e79d2605b"
      },
      "execution_count": 31,
      "outputs": [
        {
          "output_type": "stream",
          "name": "stdout",
          "text": [
            "{'brand': 'Ford', 'model': 'Mustang', 'year': 1964}\n"
          ]
        }
      ]
    },
    {
      "cell_type": "markdown",
      "source": [
        "nested dictionaries"
      ],
      "metadata": {
        "id": "uSGA362ad3OA"
      }
    },
    {
      "cell_type": "code",
      "source": [
        "myfamily = {\n",
        "  \"child1\" : {\n",
        "    \"name\" : \"manu\",\n",
        "    \"year\" : 2004\n",
        "  },\n",
        "  \"child2\" : {\n",
        "    \"name\" : \"chandu\",\n",
        "    \"year\" : 2007\n",
        "  },\n",
        "  \"child3\" : {\n",
        "    \"name\" : \"deepu\",\n",
        "    \"year\" : 2011\n",
        "  }\n",
        "}\n",
        "\n",
        "print(myfamily)\n"
      ],
      "metadata": {
        "colab": {
          "base_uri": "https://localhost:8080/"
        },
        "id": "mL9ji_wFd2UT",
        "outputId": "af11c157-1b68-4b07-8496-d058ea0890fb"
      },
      "execution_count": 34,
      "outputs": [
        {
          "output_type": "stream",
          "name": "stdout",
          "text": [
            "{'child1': {'name': 'manu', 'year': 2004}, 'child2': {'name': 'chandu', 'year': 2007}, 'child3': {'name': 'deepu', 'year': 2011}}\n"
          ]
        }
      ]
    },
    {
      "cell_type": "markdown",
      "source": [
        "total 3 in 1 families"
      ],
      "metadata": {
        "id": "JOfbgsIoeHuw"
      }
    },
    {
      "cell_type": "code",
      "source": [
        "child1 = {\n",
        "  \"name\" : \"Emil\",\n",
        "  \"year\" : 2004\n",
        "}\n",
        "child2 = {\n",
        "  \"name\" : \"Tobias\",\n",
        "  \"year\" : 2007\n",
        "}\n",
        "child3 = {\n",
        "  \"name\" : \"Linus\",\n",
        "  \"year\" : 2011\n",
        "}\n",
        "\n",
        "myfamily = {\n",
        "  \"child1\" : child1,\n",
        "  \"child2\" : child2,\n",
        "  \"child3\" : child3\n",
        "}\n",
        "\n",
        "print(myfamily)\n"
      ],
      "metadata": {
        "id": "4nZkKg3Yd2cK"
      },
      "execution_count": null,
      "outputs": []
    },
    {
      "cell_type": "markdown",
      "source": [
        "setdefault"
      ],
      "metadata": {
        "id": "f9TXUgZaeapZ"
      }
    },
    {
      "cell_type": "code",
      "source": [
        "car = {\n",
        "  \"brand\": \"Ford\",\n",
        "  \"model\": \"Mustang\",\n",
        "  \"year\": 1964\n",
        "}\n",
        "\n",
        "x = car.setdefault(\"model\", \"Bronco\")\n",
        "\n",
        "print(x)\n"
      ],
      "metadata": {
        "colab": {
          "base_uri": "https://localhost:8080/"
        },
        "id": "aS2IqPtQd2gB",
        "outputId": "482ef418-2fe9-40e1-8ec7-e3d6c6610a5e"
      },
      "execution_count": 35,
      "outputs": [
        {
          "output_type": "stream",
          "name": "stdout",
          "text": [
            "Mustang\n"
          ]
        }
      ]
    },
    {
      "cell_type": "markdown",
      "source": [
        "from keys"
      ],
      "metadata": {
        "id": "CPVbSFpYekeQ"
      }
    },
    {
      "cell_type": "code",
      "source": [
        "x = ('key1', 'key2', 'key3')\n",
        "y = 0\n",
        "\n",
        "dict = dict.fromkeys(x, y)\n",
        "\n",
        "print(dict)"
      ],
      "metadata": {
        "id": "CkhkggduedRq"
      },
      "execution_count": null,
      "outputs": []
    },
    {
      "cell_type": "markdown",
      "source": [
        "values"
      ],
      "metadata": {
        "id": "jZNm7eOGetAg"
      }
    },
    {
      "cell_type": "code",
      "source": [
        "car = {\n",
        "  \"brand\": \"Ford\",\n",
        "  \"model\": \"Mustang\",\n",
        "  \"year\": 1964\n",
        "}\n",
        "\n",
        "x = car.values()\n",
        "\n",
        "car[\"year\"] = 2018\n",
        "\n",
        "print(x)"
      ],
      "metadata": {
        "colab": {
          "base_uri": "https://localhost:8080/"
        },
        "id": "Ion6KpcdedUy",
        "outputId": "2e5cf68a-c5fb-42a9-d152-669322f6f25f"
      },
      "execution_count": 36,
      "outputs": [
        {
          "output_type": "stream",
          "name": "stdout",
          "text": [
            "dict_values(['Ford', 'Mustang', 2018])\n"
          ]
        }
      ]
    },
    {
      "cell_type": "markdown",
      "source": [
        "get"
      ],
      "metadata": {
        "id": "aioytJpde-P4"
      }
    },
    {
      "cell_type": "code",
      "source": [
        "car = {\n",
        "  \"brand\": \"Ford\",\n",
        "  \"model\": \"Mustang\",\n",
        "  \"year\": 1964\n",
        "}\n",
        "\n",
        "x = car.get(\"model\")\n",
        "\n",
        "print(x)\n"
      ],
      "metadata": {
        "colab": {
          "base_uri": "https://localhost:8080/"
        },
        "id": "mVaQaYYSe2rT",
        "outputId": "61c73da1-5dab-4e40-a31c-3fa259a99f2b"
      },
      "execution_count": 38,
      "outputs": [
        {
          "output_type": "stream",
          "name": "stdout",
          "text": [
            "Mustang\n"
          ]
        }
      ]
    },
    {
      "cell_type": "markdown",
      "source": [
        "pop item"
      ],
      "metadata": {
        "id": "CCGlVbXafLQo"
      }
    },
    {
      "cell_type": "code",
      "source": [
        "car = {\n",
        "  \"brand\": \"Ford\",\n",
        "  \"model\": \"Mustang\",\n",
        "  \"year\": 1964\n",
        "}\n",
        "\n",
        "car.popitem()\n",
        "\n",
        "print(car)\n"
      ],
      "metadata": {
        "colab": {
          "base_uri": "https://localhost:8080/"
        },
        "id": "oxBmjcZJe_y5",
        "outputId": "df1b8c3a-692a-49a0-c481-03623b5a7db7"
      },
      "execution_count": 37,
      "outputs": [
        {
          "output_type": "stream",
          "name": "stdout",
          "text": [
            "{'brand': 'Ford', 'model': 'Mustang'}\n"
          ]
        }
      ]
    }
  ]
}