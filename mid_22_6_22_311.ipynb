{
  "nbformat": 4,
  "nbformat_minor": 0,
  "metadata": {
    "colab": {
      "name": "mid 22-6-22-311.ipynb",
      "provenance": [],
      "collapsed_sections": [],
      "authorship_tag": "ABX9TyONKFyiF3hn8ad8CLVTA8q2",
      "include_colab_link": true
    },
    "kernelspec": {
      "name": "python3",
      "display_name": "Python 3"
    },
    "language_info": {
      "name": "python"
    }
  },
  "cells": [
    {
      "cell_type": "markdown",
      "metadata": {
        "id": "view-in-github",
        "colab_type": "text"
      },
      "source": [
        "<a href=\"https://colab.research.google.com/github/manaswinisunkavalli311/python_practise/blob/main/mid_22_6_22_311.ipynb\" target=\"_parent\"><img src=\"https://colab.research.google.com/assets/colab-badge.svg\" alt=\"Open In Colab\"/></a>"
      ]
    },
    {
      "cell_type": "code",
      "source": [
        "#nth fibnocci\n",
        "def Fibonacci(n):\n",
        "\tif n<= 0:\n",
        "\t\tprint(\"Incorrect input\")\n",
        "\telif n == 1:\n",
        "\t\treturn 0\n",
        "\telif n == 2:\n",
        "\t\treturn 1\n",
        "\telse:\n",
        "\t\treturn Fibonacci(n-1)+Fibonacci(n-2)\n",
        "print(Fibonacci(8))\n"
      ],
      "metadata": {
        "colab": {
          "base_uri": "https://localhost:8080/"
        },
        "id": "dVQY31rRQMKO",
        "outputId": "60b775bb-7fe2-4cce-b104-2fc76efe7c1b"
      },
      "execution_count": null,
      "outputs": [
        {
          "output_type": "stream",
          "name": "stdout",
          "text": [
            "13\n"
          ]
        }
      ]
    },
    {
      "cell_type": "code",
      "source": [
        "def prime(a,b):\n",
        "   a=int(input(\"enter\"))\n",
        "   b=int(input(\"enter\"))\n",
        "   for i in range(a,b+1):\n",
        "     k=0\n",
        "     for j in range(2,i):\n",
        "       if i%j==0:\n",
        "           k+=1\n",
        "     if k==0:\n",
        "       print(i)\n",
        "(prime(a,b))"
      ],
      "metadata": {
        "colab": {
          "base_uri": "https://localhost:8080/"
        },
        "id": "megQ7mx5DqAI",
        "outputId": "005379ca-40cf-4db1-9de0-7cd64686d479"
      },
      "execution_count": null,
      "outputs": [
        {
          "output_type": "stream",
          "name": "stdout",
          "text": [
            "enter25\n",
            "enter50\n",
            "29\n",
            "31\n",
            "37\n",
            "41\n",
            "43\n",
            "47\n"
          ]
        }
      ]
    },
    {
      "cell_type": "code",
      "source": [
        "#print even words\n",
        "s=\"my name is manaswini\"\n",
        "s=s.split(' ')\n",
        "for x in s:\n",
        "  if len(x)%2==0:\n",
        "          print(x,end=\"\")"
      ],
      "metadata": {
        "colab": {
          "base_uri": "https://localhost:8080/"
        },
        "id": "UjaEGrqBGx7u",
        "outputId": "bc012e20-8229-4504-fdb4-25bad3026f45"
      },
      "execution_count": null,
      "outputs": [
        {
          "output_type": "stream",
          "name": "stdout",
          "text": [
            "mynameis"
          ]
        }
      ]
    },
    {
      "cell_type": "code",
      "source": [
        "#month number display\n",
        "a=int(input(\"enter month num\"))\n",
        "b=[4,6,9,11]\n",
        "if a==2:\n",
        "  print(\"28 or 29\")\n",
        "elif a in b:\n",
        "  print(\"30\")\n",
        "elif a>=13 or a<1:\n",
        "  print(\"enter\")\n",
        "else:\n",
        "  print(\"31\")"
      ],
      "metadata": {
        "colab": {
          "base_uri": "https://localhost:8080/"
        },
        "id": "JKoPrVp9Dp9W",
        "outputId": "7d0ac2d6-8e55-42af-bb8a-3c3cb24d75f4"
      },
      "execution_count": null,
      "outputs": [
        {
          "output_type": "stream",
          "name": "stdout",
          "text": [
            "enter month num6\n",
            "30\n"
          ]
        }
      ]
    },
    {
      "cell_type": "code",
      "source": [
        "#single int from multi int\n",
        "a=eval(input(\"enter\"))\n",
        "b=\"\"\n",
        "for i in a:\n",
        "  b+=str(i)\n",
        "print(b)"
      ],
      "metadata": {
        "colab": {
          "base_uri": "https://localhost:8080/"
        },
        "id": "Y1bL7NunDp0V",
        "outputId": "757e068e-1698-442e-a0e1-aa164005ddd3"
      },
      "execution_count": null,
      "outputs": [
        {
          "output_type": "stream",
          "name": "stdout",
          "text": [
            "enter[12,13,14]\n",
            "121314\n"
          ]
        }
      ]
    },
    {
      "cell_type": "code",
      "source": [
        "#first letters caps\n",
        "word=\"my name is manu\"\n",
        "x=word.title()\n",
        "print(x)"
      ],
      "metadata": {
        "colab": {
          "base_uri": "https://localhost:8080/"
        },
        "id": "I58-LPPKDpwx",
        "outputId": "0fade39e-22a7-4a06-e04c-c93d243a4175"
      },
      "execution_count": null,
      "outputs": [
        {
          "output_type": "stream",
          "name": "stdout",
          "text": [
            "My Name Is Manu\n"
          ]
        }
      ]
    },
    {
      "cell_type": "code",
      "source": [
        "#first and last caps\n",
        "str=input(\"enter\")\n",
        "str=str[0:1].upper()+str[1:len(str)-1]+str[len(str)-1:len(str)].upper()\n",
        "print(str)"
      ],
      "metadata": {
        "colab": {
          "base_uri": "https://localhost:8080/"
        },
        "id": "APP7uGbCDpt9",
        "outputId": "fce313b7-eda1-44a6-8335-9c5035c8b847"
      },
      "execution_count": null,
      "outputs": [
        {
          "output_type": "stream",
          "name": "stdout",
          "text": [
            "entermanu\n",
            "ManU\n"
          ]
        }
      ]
    },
    {
      "cell_type": "code",
      "source": [
        "#gcd \n",
        "def gcd(a,b):\n",
        "    if(b==0):\n",
        "        return a\n",
        "    else:\n",
        "        return gcd(b,a%b)\n",
        "a=int(input(\"Enter first number:\"))\n",
        "b=int(input(\"Enter second number:\"))\n",
        "GCD=gcd(a,b)\n",
        "print(\"GCD is: \")\n",
        "print(GCD)"
      ],
      "metadata": {
        "id": "LJ3beIuiMFb1"
      },
      "execution_count": null,
      "outputs": []
    },
    {
      "cell_type": "code",
      "source": [
        "#power of a number\n",
        "def power(N, P):\n",
        "\tif P == 0: \n",
        "\t\treturn 1\n",
        "\treturn (N*power(N,P-1))\n",
        "N = 2\n",
        "P = 3\n",
        "print(power(N, P))\n"
      ],
      "metadata": {
        "colab": {
          "base_uri": "https://localhost:8080/"
        },
        "id": "r6_xp44hDpqy",
        "outputId": "1aa53bd8-8734-4113-94d2-6237faa3507d"
      },
      "execution_count": null,
      "outputs": [
        {
          "output_type": "stream",
          "name": "stdout",
          "text": [
            "8\n"
          ]
        }
      ]
    },
    {
      "cell_type": "code",
      "source": [
        "#perfect\n",
        "num=int(input(\"enter num\"))\n",
        "sum=0\n",
        "for i in range (1,num):\n",
        "      if(num%i==0):\n",
        "           sum=sum+i\n",
        "if(sum==num):\n",
        "     print(\"perfect\")\n",
        "else:\n",
        "  print(\"not\")\n"
      ],
      "metadata": {
        "colab": {
          "base_uri": "https://localhost:8080/"
        },
        "id": "rLtNjUKbMmFW",
        "outputId": "a85c7e06-aba6-4cd3-d46f-938415d286d3"
      },
      "execution_count": null,
      "outputs": [
        {
          "output_type": "stream",
          "name": "stdout",
          "text": [
            "enter num23\n",
            "not\n"
          ]
        }
      ]
    },
    {
      "cell_type": "code",
      "source": [
        "#match 1 and last\n",
        "def match_words(words):\n",
        "  ctr = 0\n",
        "\n",
        "  for word in words:\n",
        "    if len(word) > 1 and word[0] == word[-1]:\n",
        "      ctr += 1\n",
        "  return ctr\n",
        "\n",
        "print(match_words(['abc', 'xyz', 'aba', '1221']))"
      ],
      "metadata": {
        "colab": {
          "base_uri": "https://localhost:8080/"
        },
        "id": "1pNucGvfMwJQ",
        "outputId": "5f54836b-389b-42e6-dc12-1aea19a57145"
      },
      "execution_count": null,
      "outputs": [
        {
          "output_type": "stream",
          "name": "stdout",
          "text": [
            "2\n"
          ]
        }
      ]
    },
    {
      "cell_type": "code",
      "source": [
        "#sum of squares of given numbers\n",
        "num = int(input(\"enter\"))\n",
        "\n",
        "sum = 0\n",
        "while num!=0:\n",
        "    rem = num%10\n",
        "    sqr = rem*rem\n",
        "    sum = sum+sqr\n",
        "    num = int(num/10)\n",
        "\n",
        "print(\"\\nSum of squares of digits of given number is: \")\n",
        "print(sum)"
      ],
      "metadata": {
        "colab": {
          "base_uri": "https://localhost:8080/"
        },
        "id": "LvJH2wSDMwGh",
        "outputId": "3723266e-8efd-4303-dbf4-b5c4b19de25d"
      },
      "execution_count": null,
      "outputs": [
        {
          "output_type": "stream",
          "name": "stdout",
          "text": [
            "enter123\n",
            "\n",
            "Sum of squares of digits of given number is: \n",
            "14\n"
          ]
        }
      ]
    },
    {
      "cell_type": "code",
      "source": [
        "#product of numbers\n",
        "def product(num1,num2):\n",
        "    if(num1<num2):\n",
        "        return product(num2,num1)\n",
        "    elif(num2!=0):\n",
        "         return(num1+product(num1,num2-1))\n",
        "    else:\n",
        "         return 0\n",
        "num1=int(input(\"Enter first number: \"))\n",
        "num2=int(input(\"Enter second number: \"))\n",
        "print(\"product is: \",product(num1,num2))"
      ],
      "metadata": {
        "colab": {
          "base_uri": "https://localhost:8080/"
        },
        "id": "IxyGkOgJMmIN",
        "outputId": "1e15a55b-729e-481d-d086-cd927cea64df"
      },
      "execution_count": null,
      "outputs": [
        {
          "output_type": "stream",
          "name": "stdout",
          "text": [
            "Enter first number: 123\n",
            "Enter second number: 23\n",
            "product is:  2829\n"
          ]
        }
      ]
    },
    {
      "cell_type": "code",
      "source": [
        "#print 1 if in ascending\n",
        "a=int(input(\"enter\"))\n",
        "b=int(input(\"enter\"))\n",
        "c=int(input(\"enter\"))\n",
        "if a<b<c:\n",
        "  print(1)\n",
        "else:\n",
        "  print(0)\n"
      ],
      "metadata": {
        "colab": {
          "base_uri": "https://localhost:8080/"
        },
        "id": "4c7ziWhzOon1",
        "outputId": "b65695db-e703-48c9-f4dd-489888be2b70"
      },
      "execution_count": null,
      "outputs": [
        {
          "output_type": "stream",
          "name": "stdout",
          "text": [
            "enter2\n",
            "enter1\n",
            "enter4\n",
            "0\n"
          ]
        }
      ]
    },
    {
      "cell_type": "code",
      "source": [
        "#if length>3 print word27 Give a list of city names whose length is greater than a given length \n",
        "#str len =3\n",
        "#print(cityNmes(['Vizag','Agra','Hyderabad','Delhi']))=\n",
        "test_list = ['Vizag','Agra','Hyderabad','Delhi']\n",
        "K = 3\n",
        "res = ''\n",
        "for ele in test_list:\n",
        "    if len(ele) >3 :\n",
        "        res += ele\n",
        "print(res,end=\" \")\n"
      ],
      "metadata": {
        "colab": {
          "base_uri": "https://localhost:8080/"
        },
        "id": "ppgxYPTuOo3_",
        "outputId": "295f9f29-b7d2-4030-ef2c-e1493401edaa"
      },
      "execution_count": null,
      "outputs": [
        {
          "output_type": "stream",
          "name": "stdout",
          "text": [
            "VizagAgraHyderabadDelhi "
          ]
        }
      ]
    },
    {
      "cell_type": "code",
      "source": [
        "#6km ground#25 There is a walking track of 3 km (roundtrip means 3+3=6km).\n",
        "'''take input from user no. of days, followed by no of roundtrips in 1 day \n",
        "find total distance he covers in m\n",
        "if round trip:\n",
        "<40000m need to walk more\n",
        ">=40000m you done a great job!\n",
        "'''\n",
        "d=int(input(\"Enter number of days: \"))\n",
        "t=int(input(\"Enter number of roundtrips per day: \"))\n",
        "dist=d*t*6000\n",
        "print(dist)\n",
        "if dist<40000:\n",
        "  print(\"need to walk more.\")\n",
        "else:\n",
        "  print(\"Great job!\")\n",
        "\n"
      ],
      "metadata": {
        "colab": {
          "base_uri": "https://localhost:8080/"
        },
        "id": "hJ9Uj_CkOpdj",
        "outputId": "477ef2d8-5796-461c-8a83-732ccbefa593"
      },
      "execution_count": null,
      "outputs": [
        {
          "output_type": "stream",
          "name": "stdout",
          "text": [
            "Enter number of days: 1\n",
            "Enter number of roundtrips per day: 3\n",
            "18000\n",
            "need to walk more.\n"
          ]
        }
      ]
    },
    {
      "cell_type": "code",
      "source": [
        "#vowels and consonants\n",
        "str1 = input(\"Please Enter Your Own String : \")\n",
        "vowels = 0\n",
        "consonants = 0\n",
        "\n",
        "for i in str1:\n",
        "    if(i == 'a' or i == 'e' or i == 'i' or i == 'o' or i == 'u'\n",
        "       or i == 'A' or i == 'E' or i == 'I' or i == 'O' or i == 'U'):\n",
        "        vowels = vowels + 1\n",
        "    else:\n",
        "        consonants = consonants + 1\n",
        " \n",
        "print(\"Total Number of Vowels in this String = \", vowels)\n",
        "print(\"Total Number of Consonants in this String = \", consonants)\n"
      ],
      "metadata": {
        "colab": {
          "base_uri": "https://localhost:8080/"
        },
        "id": "WSNVXzxPOphC",
        "outputId": "b11edb64-e7a2-4d3f-9944-e5feb72050e8"
      },
      "execution_count": null,
      "outputs": [
        {
          "output_type": "stream",
          "name": "stdout",
          "text": [
            "Please Enter Your Own String : manu\n",
            "Total Number of Vowels in this String =  2\n",
            "Total Number of Consonants in this String =  2\n"
          ]
        }
      ]
    },
    {
      "cell_type": "code",
      "source": [
        "#max of 3 numbers\n",
        "def maximum(a, b, c):\n",
        "\tif (a >= b) and (a >= c):\n",
        "\t\tlargest = a\n",
        "\n",
        "\telif (b >= a) and (b >= c):\n",
        "\t\tlargest = b\n",
        "\telse:\n",
        "\t\tlargest = c\n",
        "\treturn largest\n",
        "a = 10\n",
        "b = 14\n",
        "c = 12\n",
        "print(maximum(a, b, c))\n"
      ],
      "metadata": {
        "colab": {
          "base_uri": "https://localhost:8080/"
        },
        "id": "YVimueoWPdmL",
        "outputId": "2037ed14-e004-42cf-b86a-48ebbefd4990"
      },
      "execution_count": null,
      "outputs": [
        {
          "output_type": "stream",
          "name": "stdout",
          "text": [
            "14\n"
          ]
        }
      ]
    },
    {
      "cell_type": "code",
      "source": [
        "# If A<B, print all numbers from A to B in ascending order else(A>=B) in descending order\n",
        "A=int(input(\"Enter A: \"))\n",
        "B=int(input(\"Enter B: \"))\n",
        "if A<B:\n",
        "  for i in range(A,B+1):\n",
        "    print(i)\n",
        "else:\n",
        "  for i in range(A,B-1,-1):\n",
        "    print(i)"
      ],
      "metadata": {
        "colab": {
          "base_uri": "https://localhost:8080/"
        },
        "id": "9Mtq_DEQP19v",
        "outputId": "a8ab240c-5df3-485e-c6d5-7c1edf412a5b"
      },
      "execution_count": null,
      "outputs": [
        {
          "output_type": "stream",
          "name": "stdout",
          "text": [
            "Enter A: 7\n",
            "Enter B: 3\n",
            "7\n",
            "6\n",
            "5\n",
            "4\n",
            "3\n"
          ]
        }
      ]
    },
    {
      "cell_type": "code",
      "source": [
        "#5 subjects grades\n",
        "s1=int(input(\"enter\"))\n",
        "s2=int(input(\"enter\"))\n",
        "s3=int(input(\"enter\"))\n",
        "s4=int(input(\"enter\"))\n",
        "s5=int(input(\"enter\"))\n",
        "avg=s1+s2+s3+s4+s5/5\n",
        "if(avg>=90):\n",
        "     print(\"pass\")\n",
        "elif (avg>=80 and avg<=90):\n",
        "    print(\"a\")\n",
        "elif (avg>=70 and avg<=80):\n",
        "    print(\"b\")\n",
        "elif (avg>=60 and avg<=70):\n",
        "    print(\"c\")\n",
        "else:\n",
        "    print(\"f\")\n"
      ],
      "metadata": {
        "id": "y5oLMRgPRHXD"
      },
      "execution_count": null,
      "outputs": []
    },
    {
      "cell_type": "code",
      "source": [
        "#prime or not\n",
        "def isPrime(n):\n",
        "\tif n <= 1:\n",
        "\t\treturn False\n",
        "\tfor i in range(2, n):\n",
        "\t\tif n % i == 0:\n",
        "\t\t\treturn False;\n",
        "\treturn True\n",
        "n=int(input(\"enter\"))\n",
        "print(\"true\") if isPrime(n) else print(\"false\")\n",
        "\n",
        "\n"
      ],
      "metadata": {
        "colab": {
          "base_uri": "https://localhost:8080/"
        },
        "id": "BZ3KmWmkRHmY",
        "outputId": "ffab9e5f-3ffa-4825-e2c5-ed7d0deec896"
      },
      "execution_count": null,
      "outputs": [
        {
          "output_type": "stream",
          "name": "stdout",
          "text": [
            "enter1\n",
            "false\n"
          ]
        }
      ]
    },
    {
      "cell_type": "code",
      "source": [
        "#sort tuples in ascending order\n",
        "a=[(3,4,6,723),(1,2),(134,234,34)]\n",
        "a.sort()\n",
        "print(a)"
      ],
      "metadata": {
        "colab": {
          "base_uri": "https://localhost:8080/"
        },
        "id": "4U1tlWS-RHru",
        "outputId": "5b824da2-06a4-405e-c35d-262a14042418"
      },
      "execution_count": null,
      "outputs": [
        {
          "output_type": "stream",
          "name": "stdout",
          "text": [
            "[(1, 2), (3, 4, 6, 723), (134, 234, 34)]\n"
          ]
        }
      ]
    },
    {
      "cell_type": "code",
      "source": [
        "#palindrome\n",
        "def isPalindrome(s):\n",
        "\trev = ''.join(reversed(s))\n",
        "\tif (s == rev):\n",
        "\t\treturn True\n",
        "\treturn False\n",
        "s = \"mada\"\n",
        "ans = isPalindrome(s)\n",
        "if (ans):\n",
        "\tprint(\"Yes\")\n",
        "else:\n",
        "\tprint(\"No\")\n"
      ],
      "metadata": {
        "colab": {
          "base_uri": "https://localhost:8080/"
        },
        "id": "0TT6T04nVhWZ",
        "outputId": "88e79bd3-3736-4b8b-e039-26adf868a5d0"
      },
      "execution_count": null,
      "outputs": [
        {
          "output_type": "stream",
          "name": "stdout",
          "text": [
            "No\n"
          ]
        }
      ]
    },
    {
      "cell_type": "code",
      "source": [
        "#16 print sum of even digits in a given number                                                                          1243=>6\n",
        "n=int(input(\"Enter number: \"))\n",
        "sum=0\n",
        "while(n>0):\n",
        "  rem=n%10\n",
        "  if(rem%2==0):\n",
        "    sum=sum+rem\n",
        "n=n/10\n",
        "print(sum)"
      ],
      "metadata": {
        "id": "reeD4FyQqOai"
      },
      "execution_count": null,
      "outputs": []
    },
    {
      "cell_type": "code",
      "source": [
        "#palindome\n",
        "\n",
        "num = int(input(\"Enter a value:\"))  \n",
        "temp = num  \n",
        "rev = 0  \n",
        "while(num > 0):  \n",
        "    dig = num % 10  \n",
        "    revrev = rev * 10 + dig  \n",
        "    numnum = num // 10  \n",
        "if(temp == rev):  \n",
        "    print(\"This value is a palindrome number!\")  \n",
        "else:  \n",
        "    print(\"This value is not a palindrome number!\")  "
      ],
      "metadata": {
        "id": "t27Hll09qXFI"
      },
      "execution_count": null,
      "outputs": []
    }
  ]
}