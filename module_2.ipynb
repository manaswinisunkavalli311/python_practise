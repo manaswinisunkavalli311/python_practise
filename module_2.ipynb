{
  "nbformat": 4,
  "nbformat_minor": 0,
  "metadata": {
    "colab": {
      "name": "module 2",
      "provenance": [],
      "collapsed_sections": [],
      "authorship_tag": "ABX9TyPyx9cH06/dnCWaI082Warg",
      "include_colab_link": true
    },
    "kernelspec": {
      "name": "python3",
      "display_name": "Python 3"
    },
    "language_info": {
      "name": "python"
    }
  },
  "cells": [
    {
      "cell_type": "markdown",
      "metadata": {
        "id": "view-in-github",
        "colab_type": "text"
      },
      "source": [
        "<a href=\"https://colab.research.google.com/github/manaswinisunkavalli311/python_practise/blob/main/module_2.ipynb\" target=\"_parent\"><img src=\"https://colab.research.google.com/assets/colab-badge.svg\" alt=\"Open In Colab\"/></a>"
      ]
    },
    {
      "cell_type": "code",
      "execution_count": null,
      "metadata": {
        "id": "lDmEfyO4PvPp",
        "colab": {
          "base_uri": "https://localhost:8080/"
        },
        "outputId": "8b98252e-d38b-42f0-a1ff-b736f201bcd7"
      },
      "outputs": [
        {
          "output_type": "stream",
          "name": "stdout",
          "text": [
            "Enter first number:32\n",
            "Enter second number:23\n",
            "GCD is: \n",
            "1\n"
          ]
        }
      ],
      "source": [
        "def gcd(a,b):\n",
        "    if(b==0):\n",
        "        return a\n",
        "    else:\n",
        "        return gcd(b,a%b)\n",
        "a=int(input(\"Enter first number:\"))\n",
        "b=int(input(\"Enter second number:\"))\n",
        "GCD=gcd(a,b)\n",
        "print(\"GCD is: \")\n",
        "print(GCD)"
      ]
    },
    {
      "cell_type": "code",
      "source": [
        "def product(num1,num2):\n",
        "    if(num1<num2):\n",
        "        return product(num2,num1)\n",
        "    elif(num2!=0):\n",
        "         return(num1+product(num1,num2-1))\n",
        "    else:\n",
        "         return 0\n",
        "num1=int(input(\"Enter first number: \"))\n",
        "num2=int(input(\"Enter second number: \"))\n",
        "print(\"product is: \",product(num1,num2))"
      ],
      "metadata": {
        "colab": {
          "base_uri": "https://localhost:8080/"
        },
        "id": "s5rieQrU7__j",
        "outputId": "374f9d0d-41ac-44de-b0c3-50c2ea9ec78a"
      },
      "execution_count": null,
      "outputs": [
        {
          "output_type": "stream",
          "name": "stdout",
          "text": [
            "Enter first number: 2\n",
            "Enter second number: 3\n",
            "product is:  6\n"
          ]
        }
      ]
    },
    {
      "cell_type": "code",
      "source": [
        "# Python program to display the Fibonacci sequence\n",
        "\n",
        "def recur_fibo(n):\n",
        "   if n <= 1:\n",
        "       return n\n",
        "   else:\n",
        "       return(recur_fibo(n-1) + recur_fibo(n-2))\n",
        "\n",
        "nterms = 10\n",
        "\n",
        "# check if the number of terms is valid\n",
        "if nterms <= 0:\n",
        "   print(\"Plese enter a positive integer\")\n",
        "else:\n",
        "   print(\"Fibonacci sequence:\")\n",
        "   for i in range(nterms):\n",
        "       print(recur_fibo(i))\n"
      ],
      "metadata": {
        "colab": {
          "base_uri": "https://localhost:8080/"
        },
        "id": "Ys4YXE4s8AC5",
        "outputId": "e8c05288-417f-4d09-eec9-c310387f1245"
      },
      "execution_count": null,
      "outputs": [
        {
          "output_type": "stream",
          "name": "stdout",
          "text": [
            "Fibonacci sequence:\n",
            "0\n",
            "1\n",
            "1\n",
            "2\n",
            "3\n",
            "5\n",
            "8\n",
            "13\n",
            "21\n",
            "34\n"
          ]
        }
      ]
    },
    {
      "cell_type": "code",
      "source": [
        "color = ['Red', 'Green', 'White', 'Black', 'Pink', 'Yellow']\n",
        "color = [x for (i,x) in enumerate(color) if i not in (0,4,5)]\n",
        "print(color)\n"
      ],
      "metadata": {
        "colab": {
          "base_uri": "https://localhost:8080/"
        },
        "id": "RJsxQac68Bwg",
        "outputId": "677c68ba-869b-4c14-951c-4a8e56a84716"
      },
      "execution_count": null,
      "outputs": [
        {
          "output_type": "stream",
          "name": "stdout",
          "text": [
            "['Green', 'White', 'Black']\n"
          ]
        }
      ]
    },
    {
      "cell_type": "code",
      "source": [
        "\n",
        "# To find largest, smallest, second largest and second smallest in a List\n",
        "def maxmin(A):\n",
        "      maxi = A[0]\n",
        "      secondsmax = A[0]\n",
        "      mini = A[0]\n",
        "      secondmini = A[0]\n",
        "      for item in A:\n",
        "           if item > maxi:\n",
        "                  maxi = item\n",
        "           elif secondsmax!=maxi and secondsmax < item:\n",
        "                  secondsmax = item\n",
        "           elif item < mini:\n",
        "                     mini = item\n",
        "           elif secondmini != mini and secondmini > item:\n",
        "                  secondmini = item\n",
        "      print(\"Largest element is ::>\", maxi)\n",
        "      print(\"Second Largest element is ::>\", secondsmax)\n",
        "      print(\"Smallest element is ::>\", mini)\n",
        "      print(\"Second Smallest element is ::>\", secondmini)\n",
        "# Driver Code\n",
        "A=list()\n",
        "n=int(input(\"Enter the size of the List ::\"))\n",
        "print(\"Enter the number ::\")\n",
        "for i in range(int(n)):\n",
        " k=int(input(\"\"))\n",
        "A.append(int(k))\n",
        "maxmin(A)"
      ],
      "metadata": {
        "colab": {
          "base_uri": "https://localhost:8080/"
        },
        "id": "fYB2deCJ8BzY",
        "outputId": "c675fb9e-f325-43d3-8d2d-3596efd0b5bf"
      },
      "execution_count": null,
      "outputs": [
        {
          "output_type": "stream",
          "name": "stdout",
          "text": [
            "Enter the size of the List ::5\n",
            "Enter the number ::\n",
            "2\n",
            "3\n",
            "4\n",
            "6\n",
            "8\n",
            "Largest element is ::> 8\n",
            "Second Largest element is ::> 8\n",
            "Smallest element is ::> 8\n",
            "Second Smallest element is ::> 8\n"
          ]
        }
      ]
    },
    {
      "cell_type": "code",
      "source": [
        "myDict = {'a':1,'b':2,'c':3,'d':4}\n",
        "print(myDict)\n",
        "if 'a' in myDict: \n",
        "    del myDict['a']\n",
        "print(myDict)\n"
      ],
      "metadata": {
        "colab": {
          "base_uri": "https://localhost:8080/"
        },
        "id": "nGbVq9Dh8B2N",
        "outputId": "2264d788-ab4f-4d40-f046-8ea80fdaecb1"
      },
      "execution_count": null,
      "outputs": [
        {
          "output_type": "stream",
          "name": "stdout",
          "text": [
            "{'a': 1, 'b': 2, 'c': 3, 'd': 4}\n",
            "{'b': 2, 'c': 3, 'd': 4}\n"
          ]
        }
      ]
    },
    {
      "cell_type": "code",
      "source": [
        "\n",
        "dictionary = {\"a\": 5, \"b\": 2, \"c\": 8}\n",
        " \n",
        "# get key with min value\n",
        "min_key = min(dictionary, key=dictionary.get)\n",
        " \n",
        "print(min_key)\n",
        "# print output => \"b\"\n",
        " \n",
        "print(dictionary.get(min_key))\n",
        "# min value"
      ],
      "metadata": {
        "colab": {
          "base_uri": "https://localhost:8080/"
        },
        "id": "9hHaBGuo8B5n",
        "outputId": "7a5827bf-79f1-4221-f3b8-b9bd2c839773"
      },
      "execution_count": null,
      "outputs": [
        {
          "output_type": "stream",
          "name": "stdout",
          "text": [
            "b\n",
            "2\n"
          ]
        }
      ]
    },
    {
      "cell_type": "code",
      "source": [
        "def up_low(s):      \n",
        "    u = sum(1 for i in s if i.isupper())\n",
        "    l = sum(1 for i in s if i.islower())\n",
        "    print( \"No. of Upper case characters : %s,No. of Lower case characters : %s\" % (u,l))\n",
        "\n",
        "up_low(\"Hello\")"
      ],
      "metadata": {
        "id": "ij4OpX_Q-Vty",
        "colab": {
          "base_uri": "https://localhost:8080/"
        },
        "outputId": "f4288e4a-c97b-4c72-b12c-0fd785098667"
      },
      "execution_count": 2,
      "outputs": [
        {
          "output_type": "stream",
          "name": "stdout",
          "text": [
            "No. of Upper case characters : 1,No. of Lower case characters : 4\n"
          ]
        }
      ]
    },
    {
      "cell_type": "code",
      "source": [
        "# Function to replace all occurrences of AB with C\n",
        "\n",
        "def replaceABwithC(input, pattern, replaceWith):\n",
        "\treturn input.replace(pattern, replaceWith)\n",
        "\n",
        "# Driver program\n",
        "if __name__ == \"__main__\":\n",
        "\tinput = 'helloABworld'\n",
        "\tpattern = 'AB'\n",
        "\treplaceWith = 'C'\n",
        "\tprint (replaceABwithC(input,pattern,replaceWith))\n"
      ],
      "metadata": {
        "id": "C7sWv74C-Vwn",
        "colab": {
          "base_uri": "https://localhost:8080/"
        },
        "outputId": "c8616127-5985-4ba7-a0b6-2995df3d0f46"
      },
      "execution_count": 3,
      "outputs": [
        {
          "output_type": "stream",
          "name": "stdout",
          "text": [
            "helloCworld\n"
          ]
        }
      ]
    },
    {
      "cell_type": "code",
      "source": [
        "# Python program to count the number of occurrence\n",
        "# of a word in the given string\n",
        "def countOccurrences(str, word):\n",
        "\n",
        "\twordslist = list(str.split())\n",
        "\treturn wordslist.count(word)\n",
        "\n",
        "\n",
        "# Driver code\n",
        "str = \"GeeksforGeeks A computer science portal for geeks \"\n",
        "word = \"portal\"\n",
        "print(countOccurrences(str, word))\n",
        "\n",
        "# This code is contributed by vikkycirus\n"
      ],
      "metadata": {
        "id": "Yk2eIwWI-Vzx",
        "colab": {
          "base_uri": "https://localhost:8080/"
        },
        "outputId": "8ee62300-2861-4ffd-f8cc-d8615e9da6e0"
      },
      "execution_count": 4,
      "outputs": [
        {
          "output_type": "stream",
          "name": "stdout",
          "text": [
            "1\n"
          ]
        }
      ]
    },
    {
      "cell_type": "code",
      "source": [
        "\n",
        "def match_words(words):\n",
        "  ctr = 0\n",
        "\n",
        "  for word in words:\n",
        "    if len(word) > 1 and word[0] == word[-1]:\n",
        "      ctr += 1\n",
        "  return ctr\n",
        "\n",
        "print(match_words(['abc', 'xyz', 'aba', '1221']))\n"
      ],
      "metadata": {
        "id": "p5LJ1yoP-V2I",
        "colab": {
          "base_uri": "https://localhost:8080/"
        },
        "outputId": "216c5917-c1e1-4864-bb89-2167703274f9"
      },
      "execution_count": 1,
      "outputs": [
        {
          "output_type": "stream",
          "name": "stdout",
          "text": [
            "2\n"
          ]
        }
      ]
    },
    {
      "cell_type": "code",
      "source": [
        "\n",
        "color = ['Red', 'Green', 'White', 'Black', 'Pink', 'Yellow']\n",
        "color = [x for (i,x) in enumerate(color) if i not in (0,4,5)]\n",
        "print(color)\n"
      ],
      "metadata": {
        "id": "BaxyEqMy-V5k",
        "colab": {
          "base_uri": "https://localhost:8080/"
        },
        "outputId": "4975086a-8618-4b47-e41a-ccdd2fe31ee5"
      },
      "execution_count": 5,
      "outputs": [
        {
          "output_type": "stream",
          "name": "stdout",
          "text": [
            "['Green', 'White', 'Black']\n"
          ]
        }
      ]
    },
    {
      "cell_type": "code",
      "source": [
        "# Python program to count the number of occurrence\n",
        "# of a word in the given string\n",
        "def countOccurrences(str, word):\n",
        "\n",
        "\twordslist = list(str.split())\n",
        "\treturn wordslist.count(word)\n",
        "\n",
        "\n",
        "# Driver code\n",
        "str = \"GeeksforGeeks A computer science portal for geeks \"\n",
        "word = \"portal\"\n",
        "print(countOccurrences(str, word))\n",
        "\n",
        "# This code is contributed by vikkycirus\n"
      ],
      "metadata": {
        "colab": {
          "base_uri": "https://localhost:8080/"
        },
        "id": "GxwAPEHTrWVl",
        "outputId": "6750851c-34a8-4068-af2f-29bbc9dbc01a"
      },
      "execution_count": 9,
      "outputs": [
        {
          "output_type": "stream",
          "name": "stdout",
          "text": [
            "1\n"
          ]
        }
      ]
    },
    {
      "cell_type": "code",
      "source": [
        "\n",
        "\n"
      ],
      "metadata": {
        "id": "Dx067PPatKeU"
      },
      "execution_count": null,
      "outputs": []
    },
    {
      "cell_type": "code",
      "source": [
        "# Python program to create a list of tuples\n",
        "# from given list having number and\n",
        "# its cube in each tuple\n",
        "\n",
        "# creating a list\n",
        "list1 = [1, 2, 5, 6]\n",
        "\n",
        "# using list comprehension to iterate each\n",
        "# values in list and create a tuple as specified\n",
        "res = [(val, pow(val, 2)) for val in list1]\n",
        "\n",
        "# print the result\n",
        "print(res)\n"
      ],
      "metadata": {
        "colab": {
          "base_uri": "https://localhost:8080/"
        },
        "id": "NTa9snYSrWbT",
        "outputId": "5682494f-a66e-47c4-f222-eb53e1bd66d0"
      },
      "execution_count": 6,
      "outputs": [
        {
          "output_type": "stream",
          "name": "stdout",
          "text": [
            "[(1, 1), (2, 4), (5, 25), (6, 36)]\n"
          ]
        }
      ]
    },
    {
      "cell_type": "code",
      "source": [
        "n=int(input(\"Input a number : \"))\n",
        "d ={}\n",
        "for x in range(1,n+1):\n",
        "    d[x]=x*x\n",
        "print(d)\n"
      ],
      "metadata": {
        "colab": {
          "base_uri": "https://localhost:8080/",
          "height": 234
        },
        "id": "OWgV6DrtsJFH",
        "outputId": "baecd8f2-5123-45c6-b534-b86357953fbd"
      },
      "execution_count": 7,
      "outputs": [
        {
          "output_type": "error",
          "ename": "TypeError",
          "evalue": "ignored",
          "traceback": [
            "\u001b[0;31m---------------------------------------------------------------------------\u001b[0m",
            "\u001b[0;31mTypeError\u001b[0m                                 Traceback (most recent call last)",
            "\u001b[0;32m<ipython-input-7-a8b8008d4608>\u001b[0m in \u001b[0;36m<module>\u001b[0;34m()\u001b[0m\n\u001b[0;32m----> 1\u001b[0;31m \u001b[0mn\u001b[0m\u001b[0;34m=\u001b[0m\u001b[0mint\u001b[0m\u001b[0;34m(\u001b[0m\u001b[0minput\u001b[0m\u001b[0;34m(\u001b[0m\u001b[0;34m\"Input a number : \"\u001b[0m\u001b[0;34m)\u001b[0m\u001b[0;34m)\u001b[0m\u001b[0;34m\u001b[0m\u001b[0;34m\u001b[0m\u001b[0m\n\u001b[0m\u001b[1;32m      2\u001b[0m \u001b[0md\u001b[0m \u001b[0;34m=\u001b[0m\u001b[0;34m{\u001b[0m\u001b[0;34m}\u001b[0m\u001b[0;34m\u001b[0m\u001b[0;34m\u001b[0m\u001b[0m\n\u001b[1;32m      3\u001b[0m \u001b[0;32mfor\u001b[0m \u001b[0mx\u001b[0m \u001b[0;32min\u001b[0m \u001b[0mrange\u001b[0m\u001b[0;34m(\u001b[0m\u001b[0;36m1\u001b[0m\u001b[0;34m,\u001b[0m\u001b[0mn\u001b[0m\u001b[0;34m+\u001b[0m\u001b[0;36m1\u001b[0m\u001b[0;34m)\u001b[0m\u001b[0;34m:\u001b[0m\u001b[0;34m\u001b[0m\u001b[0;34m\u001b[0m\u001b[0m\n\u001b[1;32m      4\u001b[0m     \u001b[0md\u001b[0m\u001b[0;34m[\u001b[0m\u001b[0mx\u001b[0m\u001b[0;34m]\u001b[0m\u001b[0;34m=\u001b[0m\u001b[0mx\u001b[0m\u001b[0;34m*\u001b[0m\u001b[0mx\u001b[0m\u001b[0;34m\u001b[0m\u001b[0;34m\u001b[0m\u001b[0m\n\u001b[1;32m      5\u001b[0m \u001b[0mprint\u001b[0m\u001b[0;34m(\u001b[0m\u001b[0md\u001b[0m\u001b[0;34m)\u001b[0m\u001b[0;34m\u001b[0m\u001b[0;34m\u001b[0m\u001b[0m\n",
            "\u001b[0;31mTypeError\u001b[0m: 'str' object is not callable"
          ]
        }
      ]
    },
    {
      "cell_type": "code",
      "source": [
        "# Python3 code to demonstrate working of\n",
        "# Remove Tuples of Length K\n",
        "# Using list comprehension\n",
        "\n",
        "# initializing list\n",
        "test_list = [(4, 5), (4, ), (8, 6, 7), (1, ), (3, 4, 6, 7)]\n",
        "\n",
        "# printing original list\n",
        "print(\"The original list : \" + str(test_list))\n",
        "\n",
        "# initializing K\n",
        "K = 1\n",
        "\n",
        "# 1 liner to perform task\n",
        "# filter just lengths other than K\n",
        "# len() used to compute length\n",
        "res = [ele for ele in test_list if len(ele) != K]\n",
        "\n",
        "# printing result\n",
        "print(\"Filtered list : \" + str(res))\n"
      ],
      "metadata": {
        "colab": {
          "base_uri": "https://localhost:8080/",
          "height": 234
        },
        "id": "-Df_dQtMsJMY",
        "outputId": "bf235c6b-b826-4fa0-a27b-c025e2a8ba36"
      },
      "execution_count": 8,
      "outputs": [
        {
          "output_type": "error",
          "ename": "TypeError",
          "evalue": "ignored",
          "traceback": [
            "\u001b[0;31m---------------------------------------------------------------------------\u001b[0m",
            "\u001b[0;31mTypeError\u001b[0m                                 Traceback (most recent call last)",
            "\u001b[0;32m<ipython-input-8-3ddc9b60a3c5>\u001b[0m in \u001b[0;36m<module>\u001b[0;34m()\u001b[0m\n\u001b[1;32m      7\u001b[0m \u001b[0;34m\u001b[0m\u001b[0m\n\u001b[1;32m      8\u001b[0m \u001b[0;31m# printing original list\u001b[0m\u001b[0;34m\u001b[0m\u001b[0;34m\u001b[0m\u001b[0;34m\u001b[0m\u001b[0m\n\u001b[0;32m----> 9\u001b[0;31m \u001b[0mprint\u001b[0m\u001b[0;34m(\u001b[0m\u001b[0;34m\"The original list : \"\u001b[0m \u001b[0;34m+\u001b[0m \u001b[0mstr\u001b[0m\u001b[0;34m(\u001b[0m\u001b[0mtest_list\u001b[0m\u001b[0;34m)\u001b[0m\u001b[0;34m)\u001b[0m\u001b[0;34m\u001b[0m\u001b[0;34m\u001b[0m\u001b[0m\n\u001b[0m\u001b[1;32m     10\u001b[0m \u001b[0;34m\u001b[0m\u001b[0m\n\u001b[1;32m     11\u001b[0m \u001b[0;31m# initializing K\u001b[0m\u001b[0;34m\u001b[0m\u001b[0;34m\u001b[0m\u001b[0;34m\u001b[0m\u001b[0m\n",
            "\u001b[0;31mTypeError\u001b[0m: 'str' object is not callable"
          ]
        }
      ]
    }
  ]
}