{
  "nbformat": 4,
  "nbformat_minor": 0,
  "metadata": {
    "colab": {
      "name": "module 1",
      "provenance": [],
      "authorship_tag": "ABX9TyN6C13/HV6uophLS+uLljr+",
      "include_colab_link": true
    },
    "kernelspec": {
      "name": "python3",
      "display_name": "Python 3"
    },
    "language_info": {
      "name": "python"
    }
  },
  "cells": [
    {
      "cell_type": "markdown",
      "metadata": {
        "id": "view-in-github",
        "colab_type": "text"
      },
      "source": [
        "<a href=\"https://colab.research.google.com/github/manaswinisunkavalli311/python_practise/blob/main/module_1.ipynb\" target=\"_parent\"><img src=\"https://colab.research.google.com/assets/colab-badge.svg\" alt=\"Open In Colab\"/></a>"
      ]
    },
    {
      "cell_type": "code",
      "execution_count": null,
      "metadata": {
        "colab": {
          "base_uri": "https://localhost:8080/"
        },
        "id": "166VgL3YCK7u",
        "outputId": "ae2527a5-4cd1-4f71-ff1e-7f9dff521a06"
      },
      "outputs": [
        {
          "output_type": "stream",
          "name": "stdout",
          "text": [
            "enter1\n",
            "enter2\n",
            "enter3\n",
            "enter4\n",
            "enter5\n",
            "f\n"
          ]
        }
      ],
      "source": [
        "#5 subject marks\n",
        "s1=int(input(\"enter\"))\n",
        "s2=int(input(\"enter\"))\n",
        "s3=int(input(\"enter\"))\n",
        "s4=int(input(\"enter\"))\n",
        "s5=int(input(\"enter\"))\n",
        "avg=s1+s2+s3+s4+s5/5\n",
        "if(avg>=90):\n",
        "     print(\"pass\")\n",
        "elif (avg>=80 and avg<=90):\n",
        "    print(\"a\")\n",
        "elif (avg>=70 and avg<=80):\n",
        "    print(\"b\")\n",
        "elif (avg>=60 and avg<=70):\n",
        "    print(\"c\")\n",
        "else:\n",
        "    print(\"f\")"
      ]
    },
    {
      "cell_type": "code",
      "source": [
        "a=int(input(\"enter\"))\n",
        "b=int(input(\"enter\"))\n",
        "add=a+b\n",
        "sub=a-b\n",
        "mul=a*b\n",
        "div=a%b\n",
        "rem=a/b\n",
        "print(div)\n",
        "print(add)"
      ],
      "metadata": {
        "colab": {
          "base_uri": "https://localhost:8080/"
        },
        "id": "sZOjVzqECoJ2",
        "outputId": "f668ce14-0b09-42e5-bb50-4ecdfa251c28"
      },
      "execution_count": null,
      "outputs": [
        {
          "output_type": "stream",
          "name": "stdout",
          "text": [
            "enter2\n",
            "enter4\n",
            "2\n",
            "6\n"
          ]
        }
      ]
    },
    {
      "cell_type": "code",
      "source": [
        " #gcd ( recursion )\n",
        "\n",
        "\n",
        "def hcf(a, b):\n",
        "\tif(b == 0):\n",
        "\t\treturn a\n",
        "\telse:\n",
        "\t\treturn hcf(b, a % b)\n",
        "\n",
        "a = int(input(\"enter\"))\n",
        "b = int(input(\"enter\"))\n",
        "\n",
        "# prints 12\n",
        "print(\"The gcd of a and b is : \", end=\"\")\n",
        "print(hcf(a,b))\n",
        "\n",
        "     \n"
      ],
      "metadata": {
        "colab": {
          "base_uri": "https://localhost:8080/"
        },
        "id": "hFjCVDKeDDGk",
        "outputId": "2c641cc9-4736-4a21-8633-05e673732708"
      },
      "execution_count": 20,
      "outputs": [
        {
          "output_type": "stream",
          "name": "stdout",
          "text": [
            "enter60\n",
            "enter48\n",
            "The gcd of a and b is : 12\n"
          ]
        }
      ]
    },
    {
      "cell_type": "code",
      "source": [
        "#fibnocci series\n",
        "fibonacciList = [0, 1]\n",
        "# finding 10 terms of the series starting from 3rd term\n",
        "N = 9\n",
        "term = 3\n",
        "while term < N + 1:\n",
        "    value = fibonacciList[term - 2] + fibonacciList[term - 3]\n",
        "    fibonacciList.append(value)\n",
        "    term = term + 1\n",
        "print(\"9 terms of the fibonacci series are:\")\n",
        "print(fibonacciList)"
      ],
      "metadata": {
        "colab": {
          "base_uri": "https://localhost:8080/"
        },
        "id": "fRpMfC9nGxVw",
        "outputId": "434b31dc-68c9-4913-b747-bafbe82f8aaf"
      },
      "execution_count": 28,
      "outputs": [
        {
          "output_type": "stream",
          "name": "stdout",
          "text": [
            "9 terms of the fibonacci series are:\n",
            "[0, 1, 1, 2, 3, 5, 8, 13, 21]\n"
          ]
        }
      ]
    },
    {
      "cell_type": "code",
      "source": [
        "#strong number\n",
        "sum1=0\n",
        "num=int(input(\"Enter a number:\"))\n",
        "temp=num\n",
        "while(num):\n",
        "    i=1\n",
        "    f=1\n",
        "    r=num%10\n",
        "    while(i<=r):\n",
        "        f=f*i\n",
        "        i=i+1\n",
        "    sum1=sum1+f\n",
        "    num=num//10\n",
        "if(sum1==temp):\n",
        "    print(\"The number is a strong number\")\n",
        "else:\n",
        "    print(\"The number is not a strong number\")\n"
      ],
      "metadata": {
        "colab": {
          "base_uri": "https://localhost:8080/"
        },
        "id": "5sorqmSlGxYk",
        "outputId": "72c2666a-33ce-4d5b-d4da-01b27ad4abe9"
      },
      "execution_count": 29,
      "outputs": [
        {
          "output_type": "stream",
          "name": "stdout",
          "text": [
            "Enter a number:23\n",
            "The number is not a strong number\n"
          ]
        }
      ]
    },
    {
      "cell_type": "code",
      "source": [
        "#even count odd count\n",
        "a = input ()\n",
        "a = int (a)\n",
        "\n",
        "even = 0\n",
        "odd = 0\n",
        "\n",
        "while a> 0:\n",
        "    if a% 2 == 0:\n",
        "        even += 1\n",
        "    else:\n",
        "        odd += 1\n",
        "    a = a // 10\n",
        "\n",
        "print (\"Even:% d, odd:% d\"% (even, odd))"
      ],
      "metadata": {
        "colab": {
          "base_uri": "https://localhost:8080/"
        },
        "id": "LulpQTd5GxcB",
        "outputId": "a83d3a02-4e3a-4070-e3c7-d5e53920056a"
      },
      "execution_count": 32,
      "outputs": [
        {
          "output_type": "stream",
          "name": "stdout",
          "text": [
            "234\n",
            "Even: 2, odd: 1\n"
          ]
        }
      ]
    },
    {
      "cell_type": "code",
      "source": [
        "#even or add\n",
        "num=int(input(\"enter\"))\n",
        "if num%2 == 0:\n",
        "    print(\"The number is even number.\")\n",
        "else:\n",
        "    print(\"The number is odd number.\")"
      ],
      "metadata": {
        "colab": {
          "base_uri": "https://localhost:8080/"
        },
        "id": "hIUsDzkiJ3OI",
        "outputId": "f0dc6ac8-9cc7-4406-eae8-d226aa2ce2fe"
      },
      "execution_count": 35,
      "outputs": [
        {
          "output_type": "stream",
          "name": "stdout",
          "text": [
            "enter4\n",
            "The number is even number.\n"
          ]
        }
      ]
    },
    {
      "cell_type": "code",
      "source": [
        "# storing a variable\n",
        "val=input(\"enter\")\n",
        "print(val)"
      ],
      "metadata": {
        "colab": {
          "base_uri": "https://localhost:8080/"
        },
        "id": "w1bbv038DEHH",
        "outputId": "17acbca7-bd66-4cce-d082-794b26b4e56b"
      },
      "execution_count": null,
      "outputs": [
        {
          "output_type": "stream",
          "name": "stdout",
          "text": [
            "enter2334\n",
            "2334\n"
          ]
        }
      ]
    },
    {
      "cell_type": "code",
      "source": [
        "# Python3 program to find compound interest\n",
        "\n",
        "\n",
        "principle=int(input(\"enter\"))\n",
        "rate=float(input(\"enter\"))\n",
        "time=int(input(\"enter\"))\n",
        "Amount = principle * (pow((1 + rate / 100), time))\n",
        "CI = Amount - principle\n",
        "print(\"Compound interest is\", CI)\n",
        "\n",
        "\n",
        "\n"
      ],
      "metadata": {
        "colab": {
          "base_uri": "https://localhost:8080/"
        },
        "id": "md8MgmyfKLzK",
        "outputId": "10873b10-a75d-4230-f8c1-168e464a20a9"
      },
      "execution_count": 43,
      "outputs": [
        {
          "output_type": "stream",
          "name": "stdout",
          "text": [
            "enter12345\n",
            "enter2.5\n",
            "enter2\n",
            "Compound interest is 624.9656249999989\n"
          ]
        }
      ]
    },
    {
      "cell_type": "code",
      "source": [
        "#si\n",
        "p=float(input(\"p\"))\n",
        "t=float(input(\"t\"))\n",
        "r=float(input(\"r\"))\n",
        "si=(p*t*r)/100\n",
        "print(si)\n",
        "\n"
      ],
      "metadata": {
        "colab": {
          "base_uri": "https://localhost:8080/"
        },
        "id": "TRd7bV8hKL1m",
        "outputId": "cd4fa278-318c-43e6-d269-f687a0eb0763"
      },
      "execution_count": 45,
      "outputs": [
        {
          "output_type": "stream",
          "name": "stdout",
          "text": [
            "p12\n",
            "t1\n",
            "r3\n",
            "0.36\n"
          ]
        }
      ]
    },
    {
      "cell_type": "code",
      "source": [
        "#factorial\n",
        "num=int(input(\"enter\"))\n",
        "fact=1\n",
        "if(num<0):\n",
        "  print(\"no\")\n",
        "elif num==0:\n",
        "    print(\"fact of 0 is 1\")\n",
        "else:\n",
        "      for i in range(1,num+1):\n",
        "        fact=fact*i\n",
        "        print(fact)"
      ],
      "metadata": {
        "colab": {
          "base_uri": "https://localhost:8080/"
        },
        "id": "JQjPOb_lKL4K",
        "outputId": "dabf3f83-71dd-4291-b385-2667ff7058a7"
      },
      "execution_count": 46,
      "outputs": [
        {
          "output_type": "stream",
          "name": "stdout",
          "text": [
            "enter12\n",
            "1\n",
            "2\n",
            "6\n",
            "24\n",
            "120\n",
            "720\n",
            "5040\n",
            "40320\n",
            "362880\n",
            "3628800\n",
            "39916800\n",
            "479001600\n"
          ]
        }
      ]
    },
    {
      "cell_type": "code",
      "source": [
        "#perfect\n",
        "num=int(input(\"enter num\"))\n",
        "sum=0\n",
        "for i in range (1,num):\n",
        "      if(num%i==0):\n",
        "           sum=sum+i\n",
        "if(sum==num):\n",
        "     print(\"perfect\")\n",
        "else:\n",
        "  print(\"not\")\n"
      ],
      "metadata": {
        "colab": {
          "base_uri": "https://localhost:8080/"
        },
        "id": "2yLxRlopKL68",
        "outputId": "594d2944-539b-4b18-9967-6dc06309fd30"
      },
      "execution_count": 47,
      "outputs": [
        {
          "output_type": "stream",
          "name": "stdout",
          "text": [
            "enter num22\n",
            "not\n"
          ]
        }
      ]
    },
    {
      "cell_type": "code",
      "source": [
        "#divisible by 2\n",
        "n=int(input(\"enter\"))\n",
        "for i in range(1,n+1):\n",
        "  if(i%2==0):\n",
        "    print(i)"
      ],
      "metadata": {
        "colab": {
          "base_uri": "https://localhost:8080/"
        },
        "id": "uGHu7AWxKL-Z",
        "outputId": "03bb8cdf-6e96-4f2f-e40a-95a25e5efe02"
      },
      "execution_count": 48,
      "outputs": [
        {
          "output_type": "stream",
          "name": "stdout",
          "text": [
            "enter5\n",
            "2\n",
            "4\n"
          ]
        }
      ]
    },
    {
      "cell_type": "code",
      "source": [
        "\n",
        "a=int(input(\"enter\"))\n",
        "x = math.sqrt(a)\n",
        "\n",
        "print(x)"
      ],
      "metadata": {
        "colab": {
          "base_uri": "https://localhost:8080/"
        },
        "id": "LjL9JZYYNG-0",
        "outputId": "bab9545f-c6fa-4247-d91d-ac197dc26c4a"
      },
      "execution_count": 52,
      "outputs": [
        {
          "output_type": "stream",
          "name": "stdout",
          "text": [
            "enter64\n",
            "8.0\n"
          ]
        }
      ]
    },
    {
      "cell_type": "code",
      "source": [
        "a=int(input(\"enter\"))\n",
        "b=int(input(\"enter\"))\n",
        "x = pow(a,b)\n",
        "print(x)"
      ],
      "metadata": {
        "colab": {
          "base_uri": "https://localhost:8080/"
        },
        "id": "cZJEZxtcNHBn",
        "outputId": "32177eea-006a-4ecf-8b63-011cf18d5841"
      },
      "execution_count": 54,
      "outputs": [
        {
          "output_type": "stream",
          "name": "stdout",
          "text": [
            "enter4\n",
            "enter3\n",
            "64\n"
          ]
        }
      ]
    },
    {
      "cell_type": "code",
      "source": [
        "a=float(input(\"enter\"))\n",
        "x = math.ceil(a)\n",
        "y = math.floor(a)\n",
        "print(x)\n",
        "print(y) "
      ],
      "metadata": {
        "colab": {
          "base_uri": "https://localhost:8080/"
        },
        "id": "Glyzb6p0NHFC",
        "outputId": "f7788eed-8170-4df3-894f-bf4bfc0488ce"
      },
      "execution_count": 57,
      "outputs": [
        {
          "output_type": "stream",
          "name": "stdout",
          "text": [
            "enter3.4\n",
            "4\n",
            "3\n"
          ]
        }
      ]
    },
    {
      "cell_type": "code",
      "source": [
        "import math\n",
        "\n",
        "x = math.pi\n",
        "\n",
        "print(x)\n"
      ],
      "metadata": {
        "colab": {
          "base_uri": "https://localhost:8080/"
        },
        "id": "6gQU3VcbPYPp",
        "outputId": "b23ad0c1-9014-4391-bb04-a3082dd01c3a"
      },
      "execution_count": 58,
      "outputs": [
        {
          "output_type": "stream",
          "name": "stdout",
          "text": [
            "3.141592653589793\n"
          ]
        }
      ]
    },
    {
      "cell_type": "code",
      "source": [
        ""
      ],
      "metadata": {
        "id": "baceKT94NHKf"
      },
      "execution_count": null,
      "outputs": []
    }
  ]
}