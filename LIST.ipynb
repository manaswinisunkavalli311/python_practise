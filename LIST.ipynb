{
  "nbformat": 4,
  "nbformat_minor": 0,
  "metadata": {
    "colab": {
      "name": "LIST.ipynb",
      "provenance": [],
      "authorship_tag": "ABX9TyOaw4YR5oDLqrlkLgqGV/R+",
      "include_colab_link": true
    },
    "kernelspec": {
      "name": "python3",
      "display_name": "Python 3"
    },
    "language_info": {
      "name": "python"
    }
  },
  "cells": [
    {
      "cell_type": "markdown",
      "metadata": {
        "id": "view-in-github",
        "colab_type": "text"
      },
      "source": [
        "<a href=\"https://colab.research.google.com/github/manaswinisunkavalli311/python_practise/blob/main/LIST.ipynb\" target=\"_parent\"><img src=\"https://colab.research.google.com/assets/colab-badge.svg\" alt=\"Open In Colab\"/></a>"
      ]
    },
    {
      "cell_type": "code",
      "source": [
        "append,pop,sort,reverse,insert"
      ],
      "metadata": {
        "id": "b5zKEpVvM4CT"
      },
      "execution_count": null,
      "outputs": []
    },
    {
      "cell_type": "markdown",
      "source": [
        ""
      ],
      "metadata": {
        "id": "hFbCWcauM3B6"
      }
    },
    {
      "cell_type": "code",
      "execution_count": 83,
      "metadata": {
        "colab": {
          "base_uri": "https://localhost:8080/",
          "height": 135
        },
        "id": "LVGT25XA4Zlz",
        "outputId": "f82be27d-9b22-4cd0-b6d6-28c992312cc7"
      },
      "outputs": [
        {
          "output_type": "error",
          "ename": "SyntaxError",
          "evalue": "ignored",
          "traceback": [
            "\u001b[0;36m  File \u001b[0;32m\"<ipython-input-83-f3a4ba506ab2>\"\u001b[0;36m, line \u001b[0;32m16\u001b[0m\n\u001b[0;31m    fruit.index(:3)\u001b[0m\n\u001b[0m                ^\u001b[0m\n\u001b[0;31mSyntaxError\u001b[0m\u001b[0;31m:\u001b[0m invalid syntax\n"
          ]
        }
      ],
      "source": [
        "fruit=['apple','grapes','mango','banana','orange']\n",
        "print(fruit[-4:])\n",
        "print(fruit[-1:])\n",
        "print(fruit[:2])\n",
        "fruit.append('blue')\n",
        "print(fruit)\n",
        "fruit.pop(2)\n",
        "print(fruit)\n",
        "fruit.sort()\n",
        "print(fruit)\n",
        "fruit.reverse()\n",
        "print(fruit)\n",
        "fruit.insert(-3,'berry')\n",
        "print(fruit)\n",
        "print(len(fruit))"
      ]
    },
    {
      "cell_type": "markdown",
      "source": [
        ""
      ],
      "metadata": {
        "id": "7tg_9aAiM1UD"
      }
    },
    {
      "cell_type": "code",
      "source": [
        "my=['m','a','n','a','s','w','i','n','i']\n",
        "print(my[1:8])\n",
        "print(my[-5:-1])\n",
        "print(my[-1:])\n",
        "print(my[2:5])"
      ],
      "metadata": {
        "colab": {
          "base_uri": "https://localhost:8080/"
        },
        "id": "sEY9WPL97qXc",
        "outputId": "228a3aaf-dd49-41db-a083-11c325824b5b"
      },
      "execution_count": 45,
      "outputs": [
        {
          "output_type": "stream",
          "name": "stdout",
          "text": [
            "['a', 'n', 'a', 's', 'w', 'i', 'n']\n",
            "['s', 'w', 'i', 'n']\n",
            "['i']\n",
            "['n', 'a', 's']\n"
          ]
        }
      ]
    },
    {
      "cell_type": "code",
      "source": [
        "x={'s','d','f'}\n",
        "y={'f','u','o'}\n",
        "print(x,y)\n",
        "print (x and y)\n"
      ],
      "metadata": {
        "colab": {
          "base_uri": "https://localhost:8080/"
        },
        "id": "19GQ5PC69val",
        "outputId": "39c45a36-85b3-48d7-a3ce-7cb6476ec529"
      },
      "execution_count": 53,
      "outputs": [
        {
          "output_type": "stream",
          "name": "stdout",
          "text": [
            "{'d', 's', 'f'} {'o', 'f', 'u'}\n",
            "{'o', 'f', 'u'}\n"
          ]
        }
      ]
    },
    {
      "cell_type": "code",
      "source": [
        "pow2=[2 ** x for x in range(10)]\n",
        "print(pow2)"
      ],
      "metadata": {
        "colab": {
          "base_uri": "https://localhost:8080/"
        },
        "id": "walD5JcR9vxr",
        "outputId": "cc0f09d2-31fe-4c9f-def2-f24a9a742c2e"
      },
      "execution_count": 64,
      "outputs": [
        {
          "output_type": "stream",
          "name": "stdout",
          "text": [
            "[1, 2, 4, 8, 16, 32, 64, 128, 256, 512]\n"
          ]
        }
      ]
    },
    {
      "cell_type": "code",
      "source": [
        ""
      ],
      "metadata": {
        "id": "vd6Iks_uDjyX"
      },
      "execution_count": null,
      "outputs": []
    },
    {
      "cell_type": "markdown",
      "source": [
        ""
      ],
      "metadata": {
        "id": "yyoEzrdf9v_7"
      }
    },
    {
      "cell_type": "markdown",
      "source": [
        ""
      ],
      "metadata": {
        "id": "V4oAxN0U9xlj"
      }
    }
  ]
}