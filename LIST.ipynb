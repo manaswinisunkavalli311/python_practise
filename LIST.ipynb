{
  "nbformat": 4,
  "nbformat_minor": 0,
  "metadata": {
    "colab": {
      "name": "LIST.ipynb",
      "provenance": [],
      "include_colab_link": true
    },
    "kernelspec": {
      "name": "python3",
      "display_name": "Python 3"
    },
    "language_info": {
      "name": "python"
    }
  },
  "cells": [
    {
      "cell_type": "markdown",
      "metadata": {
        "id": "view-in-github",
        "colab_type": "text"
      },
      "source": [
        "<a href=\"https://colab.research.google.com/github/manaswinisunkavalli311/python_practise/blob/main/LIST.ipynb\" target=\"_parent\"><img src=\"https://colab.research.google.com/assets/colab-badge.svg\" alt=\"Open In Colab\"/></a>"
      ]
    },
    {
      "cell_type": "code",
      "source": [
        "append,pop,sort,reverse,insert"
      ],
      "metadata": {
        "id": "b5zKEpVvM4CT"
      },
      "execution_count": null,
      "outputs": []
    },
    {
      "cell_type": "markdown",
      "source": [
        ""
      ],
      "metadata": {
        "id": "hFbCWcauM3B6"
      }
    },
    {
      "cell_type": "code",
      "execution_count": null,
      "metadata": {
        "colab": {
          "base_uri": "https://localhost:8080/"
        },
        "id": "LVGT25XA4Zlz",
        "outputId": "67d95a33-2a73-4ca4-90b3-d57701d84d59"
      },
      "outputs": [
        {
          "output_type": "stream",
          "name": "stdout",
          "text": [
            "['grapes', 'mango']\n",
            "['orange']\n",
            "['apple', 'grapes']\n",
            "['apple', 'grapes', 'mango', 'banana', 'orange', 'blue']\n",
            "['apple', 'grapes', 'banana', 'orange', 'blue']\n",
            "['apple', 'banana', 'blue', 'grapes', 'orange']\n",
            "['orange', 'grapes', 'blue', 'banana', 'apple']\n",
            "['orange', 'grapes', 'berry', 'blue', 'banana', 'apple']\n",
            "6\n",
            "['orange', 'grapes', 'cherry', 'berry', 'blue', 'banana', 'apple']\n"
          ]
        }
      ],
      "source": [
        "fruit=['apple','grapes','mango','banana','orange']\n",
        "print(fruit[-4:-2])\n",
        "print(fruit[-1:])\n",
        "print(fruit[:2])\n",
        "fruit.append('blue')\n",
        "print(fruit)\n",
        "fruit.pop(2)\n",
        "print(fruit)\n",
        "fruit.sort()\n",
        "print(fruit)\n",
        "fruit.reverse()\n",
        "print(fruit)\n",
        "fruit.insert(-3,'berry')\n",
        "print(fruit)\n",
        "print(len(fruit))\n",
        "fruit.insert(2,'cherry')\n",
        "print(fruit)"
      ]
    },
    {
      "cell_type": "markdown",
      "source": [
        ""
      ],
      "metadata": {
        "id": "7tg_9aAiM1UD"
      }
    },
    {
      "cell_type": "code",
      "source": [
        "my=['m','a','n','a','s','w','i','n','i']\n",
        "print(my[1:8])\n",
        "print(my[-5:-1])\n",
        "print(my[-1:])\n",
        "print(my[2:5])"
      ],
      "metadata": {
        "colab": {
          "base_uri": "https://localhost:8080/"
        },
        "id": "sEY9WPL97qXc",
        "outputId": "228a3aaf-dd49-41db-a083-11c325824b5b"
      },
      "execution_count": null,
      "outputs": [
        {
          "output_type": "stream",
          "name": "stdout",
          "text": [
            "['a', 'n', 'a', 's', 'w', 'i', 'n']\n",
            "['s', 'w', 'i', 'n']\n",
            "['i']\n",
            "['n', 'a', 's']\n"
          ]
        }
      ]
    },
    {
      "cell_type": "code",
      "source": [
        "x={'s','d','f'}\n",
        "y={'f','u','o'}\n",
        "print(x,y)\n"
      ],
      "metadata": {
        "colab": {
          "base_uri": "https://localhost:8080/"
        },
        "id": "19GQ5PC69val",
        "outputId": "8aecbe8c-aa5e-4d18-a0c2-b79de8b1163b"
      },
      "execution_count": null,
      "outputs": [
        {
          "output_type": "stream",
          "name": "stdout",
          "text": [
            "{'d', 's', 'f'} {'u', 'o', 'f'}\n"
          ]
        }
      ]
    },
    {
      "cell_type": "code",
      "source": [
        "pow2=[2 ** x for x in range(10)]\n",
        "print(pow2)"
      ],
      "metadata": {
        "colab": {
          "base_uri": "https://localhost:8080/"
        },
        "id": "walD5JcR9vxr",
        "outputId": "cc0f09d2-31fe-4c9f-def2-f24a9a742c2e"
      },
      "execution_count": null,
      "outputs": [
        {
          "output_type": "stream",
          "name": "stdout",
          "text": [
            "[1, 2, 4, 8, 16, 32, 64, 128, 256, 512]\n"
          ]
        }
      ]
    },
    {
      "cell_type": "code",
      "source": [
        "a={\"cherry\",\"banana\"}\n",
        "print(type(a))"
      ],
      "metadata": {
        "id": "vd6Iks_uDjyX",
        "outputId": "fbf29fb0-a2b7-44eb-e315-424e60dba5bc",
        "colab": {
          "base_uri": "https://localhost:8080/"
        }
      },
      "execution_count": null,
      "outputs": [
        {
          "output_type": "stream",
          "name": "stdout",
          "text": [
            "<class 'set'>\n"
          ]
        }
      ]
    },
    {
      "cell_type": "code",
      "source": [
        "set=[\"apple\",\"banana\"]\n",
        "print(set[1])"
      ],
      "metadata": {
        "id": "j_2MEcy4Z-k2",
        "outputId": "00ffd641-4b09-4b06-ceb1-4fd9f51979e3",
        "colab": {
          "base_uri": "https://localhost:8080/"
        }
      },
      "execution_count": null,
      "outputs": [
        {
          "output_type": "stream",
          "name": "stdout",
          "text": [
            "banana\n"
          ]
        }
      ]
    },
    {
      "cell_type": "code",
      "source": [
        "set=[\"cherry\",\"kiwi\",\"orange\",\"dates\"]\n",
        "print(set[-2:-1])\n",
        "print(set[3:])\n",
        "print(set[4:])\n",
        "print(set[2:5])\n",
        "print(set[:3])\n"
      ],
      "metadata": {
        "id": "nVi4v7dZZ-rn",
        "outputId": "b8589638-69d1-48fc-ba79-a0b576563467",
        "colab": {
          "base_uri": "https://localhost:8080/"
        }
      },
      "execution_count": null,
      "outputs": [
        {
          "output_type": "stream",
          "name": "stdout",
          "text": [
            "['orange']\n",
            "['dates']\n",
            "[]\n",
            "['orange', 'dates']\n",
            "['cherry', 'kiwi', 'orange']\n"
          ]
        }
      ]
    },
    {
      "cell_type": "code",
      "source": [
        "set=[1,2,3]\n",
        "set[2]=8\n",
        "print(set)\n",
        "set[1:3]=[\"cherry\",\"banana\"]\n",
        "print(set)\n",
        "set[0:3]=[\"red\",\"blue\",\"sky\"]\n",
        "print(set)\n",
        "set.insert(2,\"skyd\")\n",
        "print(set)\n",
        "set.append(\"dfg\")\n",
        "print(set)\n",
        "set=[6,7,8]\n",
        "set2=[4,5,6]\n",
        "set.extend(set2)\n",
        "print(set)\n",
        "set=[4,5,6]\n",
        "set.remove(4)\n",
        "print(set)\n",
        "set.pop(1)\n",
        "print(set)\n",
        "set.pop()\n",
        "print(set)\n",
        "set=[7,7,8,9]\n",
        "del set[2]\n",
        "print(set)\n",
        "set.clear()\n",
        "print(set)"
      ],
      "metadata": {
        "id": "Mh6qBPp7bY4F",
        "outputId": "e928d250-a5f8-41f3-8a6d-b4b1c7f573c5",
        "colab": {
          "base_uri": "https://localhost:8080/"
        }
      },
      "execution_count": null,
      "outputs": [
        {
          "output_type": "stream",
          "name": "stdout",
          "text": [
            "[1, 2, 8]\n",
            "[1, 'cherry', 'banana']\n",
            "['red', 'blue', 'sky']\n",
            "['red', 'blue', 'skyd', 'sky']\n",
            "['red', 'blue', 'skyd', 'sky', 'dfg']\n",
            "[6, 7, 8, 4, 5, 6]\n",
            "[5, 6]\n",
            "[5]\n",
            "[]\n",
            "[7, 7, 9]\n",
            "[]\n"
          ]
        }
      ]
    },
    {
      "cell_type": "code",
      "source": [
        "thislist = [\"apple\", \"banana\", \"cherry\"]\n",
        "i = 0\n",
        "while i < len(thislist):\n",
        "  print(thislist[i])\n",
        "  i = i + 1"
      ],
      "metadata": {
        "id": "NcM7eyJKbZEA",
        "outputId": "813e9466-2298-4c2d-b291-f11ef2e624ad",
        "colab": {
          "base_uri": "https://localhost:8080/"
        }
      },
      "execution_count": null,
      "outputs": [
        {
          "output_type": "stream",
          "name": "stdout",
          "text": [
            "apple\n",
            "banana\n",
            "cherry\n"
          ]
        }
      ]
    },
    {
      "cell_type": "code",
      "source": [
        "thislist = [\"apple\", \"banana\", \"cherry\"]\n",
        "for i in range(len(thislist)):\n",
        "  print(thislist[i])\n"
      ],
      "metadata": {
        "id": "u4pZlyxvbZIq",
        "outputId": "985aa690-ab07-4ebb-ad64-ac9e5bb24c28",
        "colab": {
          "base_uri": "https://localhost:8080/"
        }
      },
      "execution_count": null,
      "outputs": [
        {
          "output_type": "stream",
          "name": "stdout",
          "text": [
            "apple\n",
            "banana\n",
            "cherry\n"
          ]
        }
      ]
    },
    {
      "cell_type": "code",
      "source": [
        "newlist = [x for x in range(10)]\n",
        "print(newlist)"
      ],
      "metadata": {
        "id": "Yrtv22G6Z-1u",
        "outputId": "df59c397-3ff8-4126-c1e5-dd19b11d9d43",
        "colab": {
          "base_uri": "https://localhost:8080/"
        }
      },
      "execution_count": null,
      "outputs": [
        {
          "output_type": "stream",
          "name": "stdout",
          "text": [
            "[0, 1, 2, 3, 4, 5, 6, 7, 8, 9]\n"
          ]
        }
      ]
    },
    {
      "cell_type": "code",
      "source": [
        "#add lists\n",
        "list1 = [\"a\", \"b\" , \"c\"]\n",
        "list2 = [1, 2, 3]\n",
        "\n",
        "for x in list2:\n",
        "  list1.append(x)\n",
        "\n",
        "print(list1)"
      ],
      "metadata": {
        "id": "hUdQSGUpiN5e",
        "outputId": "94167f8f-741a-49db-d6b3-d0f773f96b7e",
        "colab": {
          "base_uri": "https://localhost:8080/"
        }
      },
      "execution_count": null,
      "outputs": [
        {
          "output_type": "stream",
          "name": "stdout",
          "text": [
            "['a', 'b', 'c', 1, 2, 3]\n"
          ]
        }
      ]
    },
    {
      "cell_type": "code",
      "source": [
        "thislist = [100, 50, 65, 82, 23]\n",
        "thislist.sort(reverse = True)\n",
        "print(thislist)"
      ],
      "metadata": {
        "id": "rdFR7R62iN9E",
        "outputId": "1198a2db-c800-40e8-8283-71fe536f6e69",
        "colab": {
          "base_uri": "https://localhost:8080/"
        }
      },
      "execution_count": null,
      "outputs": [
        {
          "output_type": "stream",
          "name": "stdout",
          "text": [
            "[100, 82, 65, 50, 23]\n"
          ]
        }
      ]
    },
    {
      "cell_type": "code",
      "source": [
        "def myfunc(n):\n",
        "  return abs(n - 50)\n",
        "\n",
        "thislist = [100, 50, 65, 82, 23]\n",
        "thislist.sort(key = myfunc)\n",
        "print(thislist)"
      ],
      "metadata": {
        "id": "M_gUSLm2iOAv",
        "outputId": "e2d0945f-9f40-4a68-819e-c4e3eca6163d",
        "colab": {
          "base_uri": "https://localhost:8080/"
        }
      },
      "execution_count": null,
      "outputs": [
        {
          "output_type": "stream",
          "name": "stdout",
          "text": [
            "[50, 65, 23, 82, 100]\n"
          ]
        }
      ]
    },
    {
      "cell_type": "code",
      "source": [
        "thislist = [\"apple\", \"banana\", \"cherry\"]\n",
        "mylist = thislist.copy()\n",
        "print(mylist)\n"
      ],
      "metadata": {
        "id": "GIGqyuX0iyIN",
        "outputId": "af1917bf-0a93-4720-bff4-f75dbeedc73d",
        "colab": {
          "base_uri": "https://localhost:8080/"
        }
      },
      "execution_count": null,
      "outputs": [
        {
          "output_type": "stream",
          "name": "stdout",
          "text": [
            "['apple', 'banana', 'cherry']\n"
          ]
        }
      ]
    },
    {
      "cell_type": "code",
      "source": [
        "thislist = [\"apple\", \"banana\", \"cherry\"]\n",
        "mylist = list(thislist)\n",
        "print(mylist)"
      ],
      "metadata": {
        "id": "qhSvBABIiyLq",
        "outputId": "2996fdb8-ad55-47d0-86ae-b1b1f52743ad",
        "colab": {
          "base_uri": "https://localhost:8080/"
        }
      },
      "execution_count": null,
      "outputs": [
        {
          "output_type": "stream",
          "name": "stdout",
          "text": [
            "['apple', 'banana', 'cherry']\n"
          ]
        }
      ]
    },
    {
      "cell_type": "code",
      "source": [
        "fruits = [\"apple\", \"banana\", \"cherry\", \"kiwi\", \"mango\"]\n",
        "newlist = []\n",
        "\n",
        "for x in fruits:\n",
        "  if \"a\" in x:\n",
        "    newlist.append(x)\n",
        "\n",
        "print(newlist)"
      ],
      "metadata": {
        "id": "r_yIv4gJiyQL",
        "outputId": "6a1071a7-710d-4a97-eb56-eeb69a26bfde",
        "colab": {
          "base_uri": "https://localhost:8080/"
        }
      },
      "execution_count": 1,
      "outputs": [
        {
          "output_type": "stream",
          "name": "stdout",
          "text": [
            "['apple', 'banana', 'mango']\n"
          ]
        }
      ]
    },
    {
      "cell_type": "code",
      "source": [
        ""
      ],
      "metadata": {
        "id": "NwgyGO67iyXf"
      },
      "execution_count": null,
      "outputs": []
    },
    {
      "cell_type": "markdown",
      "source": [
        ""
      ],
      "metadata": {
        "id": "yyoEzrdf9v_7"
      }
    },
    {
      "cell_type": "markdown",
      "source": [
        ""
      ],
      "metadata": {
        "id": "V4oAxN0U9xlj"
      }
    }
  ]
}