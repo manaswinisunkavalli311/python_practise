{
  "nbformat": 4,
  "nbformat_minor": 0,
  "metadata": {
    "colab": {
      "name": "Untitled3.ipynb",
      "provenance": [],
      "collapsed_sections": [],
      "authorship_tag": "ABX9TyO2brOvPEHdyIAXP363y3th",
      "include_colab_link": true
    },
    "kernelspec": {
      "name": "python3",
      "display_name": "Python 3"
    },
    "language_info": {
      "name": "python"
    }
  },
  "cells": [
    {
      "cell_type": "markdown",
      "metadata": {
        "id": "view-in-github",
        "colab_type": "text"
      },
      "source": [
        "<a href=\"https://colab.research.google.com/github/manaswinisunkavalli311/python_practise/blob/main/26-2-22.ipynb\" target=\"_parent\"><img src=\"https://colab.research.google.com/assets/colab-badge.svg\" alt=\"Open In Colab\"/></a>"
      ]
    },
    {
      "cell_type": "markdown",
      "source": [
        "1.WRITE A PROGRAMM TO PRINT PRIME NUMBER IN GIVEN RANGE USING FUNCTIONS FROM25 TO 50\n",
        "\n",
        "\n"
      ],
      "metadata": {
        "id": "Xff0Nw7BaSoY"
      }
    },
    {
      "cell_type": "markdown",
      "source": [
        "2.WRITE A PROGRAM TO READ ANY MONTH IN INTEGER AND DISPLAY DAYS FOR THAT MONTH"
      ],
      "metadata": {
        "id": "xU-MikB_asIQ"
      }
    },
    {
      "cell_type": "markdown",
      "source": [
        "3.PYTHON PROGRAM TO PRINT EVEN LENGTH WORDSIN A STRING EX=EVEN WORD"
      ],
      "metadata": {
        "id": "l04prAtQaQ3-"
      }
    },
    {
      "cell_type": "code",
      "source": [
        ""
      ],
      "metadata": {
        "id": "1rc33XyqnNp6"
      },
      "execution_count": null,
      "outputs": []
    },
    {
      "cell_type": "markdown",
      "source": [
        "4.CAPITALIZE FIRST  AND LAST LETTER OF EACH WORD EX;HaI\n",
        "WRITE A PROGRAMM TO READ A STRING FROM USER  DISPLAY FIRST CHARACTER OF EACH WORD WITH CAPITAL LETTER EX=Hello World"
      ],
      "metadata": {
        "id": "2PwS_rf9aOen"
      }
    },
    {
      "cell_type": "markdown",
      "source": [
        "5.python programm to convert multiple integers to single integer ex;print(com([11, 33, 50])=113350"
      ],
      "metadata": {
        "id": "1YaRZ0nPcNYC"
      }
    },
    {
      "cell_type": "code",
      "source": [
        "def prime(a,b):\n",
        "   a=int(input(\"enter\"))\n",
        "   b=int(input(\"enter\"))\n",
        "   for i in range(a,b+1):\n",
        "     k=0\n",
        "     for j in range(2,i):\n",
        "       if i%j==0:\n",
        "           k+=1\n",
        "     if k==0:\n",
        "       print(i)\n",
        "(prime(a,b))"
      ],
      "metadata": {
        "colab": {
          "base_uri": "https://localhost:8080/"
        },
        "id": "j56N7N9ddUbB",
        "outputId": "07287355-e8f4-4121-95c4-8476f7f89f81"
      },
      "execution_count": null,
      "outputs": [
        {
          "output_type": "stream",
          "name": "stdout",
          "text": [
            "enter25\n",
            "enter50\n",
            "29\n",
            "31\n",
            "37\n",
            "41\n",
            "43\n",
            "47\n"
          ]
        }
      ]
    },
    {
      "cell_type": "code",
      "source": [
        "a=int(input(\"monthnumber\"))\n",
        "if a==1 or 3 or 5 or 7 or 8 or 10 or 12:\n",
        "  print(\"31 days\")\n",
        " break\n",
        "elif a==4 or 6 or 9 or 11:\n",
        "   print(\"30 days\")\n",
        "else:\n",
        "   print(\"28 or 29 days\")\n"
      ],
      "metadata": {
        "colab": {
          "base_uri": "https://localhost:8080/"
        },
        "id": "1JhhxT7PdUfx",
        "outputId": "6bbedf57-665c-4c8e-ea6f-f3596c674e00"
      },
      "execution_count": null,
      "outputs": [
        {
          "output_type": "stream",
          "name": "stdout",
          "text": [
            "monthnumber6\n",
            "31 days\n"
          ]
        }
      ]
    },
    {
      "cell_type": "code",
      "source": [
        "\n",
        "s=\"my name is manaswini\"\n",
        "s=s.split(' ')\n",
        "for x in s:\n",
        "\tif len(x)%2==0:\n",
        "\t\t\tprint(x,end=\"\")\n",
        "\n",
        "\n",
        "\n"
      ],
      "metadata": {
        "colab": {
          "base_uri": "https://localhost:8080/"
        },
        "id": "RqsUM_NcnPXB",
        "outputId": "f4fb86ac-2545-484c-e709-009dd63bae4e"
      },
      "execution_count": null,
      "outputs": [
        {
          "output_type": "stream",
          "name": "stdout",
          "text": [
            "mynameis"
          ]
        }
      ]
    },
    {
      "cell_type": "code",
      "source": [
        "a=int(input(\"monthnumber\"))\n",
        "b=[4,6,9,11] \n",
        "if a==2:\n",
        "  print(\"28or 29 days\")\n",
        "elif a in b:\n",
        "   print(\"30\")\n",
        "elif a>=13 or a<1:\n",
        "  print(\"enter\")\n",
        "else:\n",
        "  print(\"31\")"
      ],
      "metadata": {
        "colab": {
          "base_uri": "https://localhost:8080/"
        },
        "id": "SlmBbov7dTJA",
        "outputId": "38d1807a-93ac-4f6e-e37e-6b2adb1ad53d"
      },
      "execution_count": null,
      "outputs": [
        {
          "output_type": "stream",
          "name": "stdout",
          "text": [
            "monthnumber6\n",
            "30\n"
          ]
        }
      ]
    },
    {
      "cell_type": "code",
      "source": [
        "a=\"11\"\n",
        "b=\"33\"\n",
        "c=\"50\"\n",
        "d=a+b+c\n",
        "print(d)"
      ],
      "metadata": {
        "colab": {
          "base_uri": "https://localhost:8080/"
        },
        "id": "t5ERef9VdTNa",
        "outputId": "cb879a6f-e02e-45dc-d4be-e11431ed4b25"
      },
      "execution_count": 53,
      "outputs": [
        {
          "output_type": "stream",
          "name": "stdout",
          "text": [
            "113350\n"
          ]
        }
      ]
    },
    {
      "cell_type": "code",
      "source": [
        "a=int(input(\"enter\"))\n",
        "b.a\n",
        "print(b)"
      ],
      "metadata": {
        "id": "LVL0_Zc0px86"
      },
      "execution_count": null,
      "outputs": []
    },
    {
      "cell_type": "code",
      "source": [
        "a=eval(input(\"enter\"))\n",
        "b=\"\"\n",
        "for i in a:\n",
        "   b+=str(i)\n",
        "print(b)"
      ],
      "metadata": {
        "colab": {
          "base_uri": "https://localhost:8080/"
        },
        "id": "-1UY6tcqpyEp",
        "outputId": "b8c0dedf-8f97-4218-db59-bf94c39c63c2"
      },
      "execution_count": 61,
      "outputs": [
        {
          "output_type": "stream",
          "name": "stdout",
          "text": [
            "enter[56,89,70]\n",
            "568970\n"
          ]
        }
      ]
    },
    {
      "cell_type": "code",
      "source": [
        "txt = \"Welcome to my world\"\n",
        "x = txt.title()\n",
        "print(x)"
      ],
      "metadata": {
        "colab": {
          "base_uri": "https://localhost:8080/"
        },
        "id": "JJM4tVO2rLUS",
        "outputId": "0caf4fd7-6338-48d7-a5b7-b9536718a718"
      },
      "execution_count": 62,
      "outputs": [
        {
          "output_type": "stream",
          "name": "stdout",
          "text": [
            "Welcome To My World\n"
          ]
        }
      ]
    },
    {
      "cell_type": "code",
      "source": [
        "String = input('Enter the String :')\n",
        "String = String[0:1].upper() + String[1:len(String)-1] + String[len(String)-1:len(String)].upper()\n",
        "print(String)"
      ],
      "metadata": {
        "colab": {
          "base_uri": "https://localhost:8080/"
        },
        "id": "KnJXLaIxsxcK",
        "outputId": "b1e2755e-99c2-4ffd-ebd1-054959392734"
      },
      "execution_count": 64,
      "outputs": [
        {
          "output_type": "stream",
          "name": "stdout",
          "text": [
            "Enter the String :manaswini\n",
            "ManaswinI\n"
          ]
        }
      ]
    }
  ]
}